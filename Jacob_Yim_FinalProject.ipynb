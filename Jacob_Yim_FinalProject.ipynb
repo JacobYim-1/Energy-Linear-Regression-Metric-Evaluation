{
  "nbformat": 4,
  "nbformat_minor": 0,
  "metadata": {
    "colab": {
      "name": "4321 Final Project",
      "provenance": [],
      "collapsed_sections": []
    },
    "kernelspec": {
      "name": "python3",
      "display_name": "Python 3"
    },
    "language_info": {
      "name": "python"
    }
  },
  "cells": [
    {
      "cell_type": "code",
      "metadata": {
        "id": "n5CHzlb6rHzH"
      },
      "source": [
        "# Programmer Name:  Jacob Yim\n",
        "# Class: CIS4321 \n",
        "# Programming Assignment : Final Project\n",
        "# Date:12/1/21\n",
        "##############################################"
      ],
      "execution_count": 1,
      "outputs": []
    },
    {
      "cell_type": "markdown",
      "metadata": {
        "id": "eyQKJBJEmeBp"
      },
      "source": [
        "# Import Libraries"
      ]
    },
    {
      "cell_type": "code",
      "metadata": {
        "id": "-H3SCHnmbQlh"
      },
      "source": [
        "#computational\n",
        "import pandas as pd\n",
        "import numpy as np\n",
        "\n",
        "#Visualizations\n",
        "import seaborn as sns\n",
        "import matplotlib.pyplot as plt\n",
        "\n",
        "#sets graph design\n",
        "sns.set_style(\"white\")\n",
        "\n",
        "#filters warnings\n",
        "import warnings\n",
        "\n",
        "#ignore warnings\n",
        "warnings.filterwarnings(\"ignore\")\n",
        "\n",
        "#allow matplotlib to allow graph in notebook\n",
        "%matplotlib inline\n",
        "\n",
        "#normalization and preprocessing\n",
        "from sklearn.preprocessing import StandardScaler\n",
        "from sklearn.model_selection import train_test_split\n",
        "\n",
        "#modeling\n",
        "from sklearn.model_selection import GridSearchCV\n",
        "from sklearn.linear_model import LinearRegression\n",
        "from sklearn.feature_selection import RFE\n",
        "\n",
        "#import metrics\n",
        "from sklearn import metrics\n"
      ],
      "execution_count": 2,
      "outputs": []
    },
    {
      "cell_type": "markdown",
      "metadata": {
        "id": "6r-R9DBRmiOu"
      },
      "source": [
        "# Import Data"
      ]
    },
    {
      "cell_type": "code",
      "metadata": {
        "id": "MD1D4kiah-kV"
      },
      "source": [
        "energy = pd.read_csv('/content/energy_dataset.csv')"
      ],
      "execution_count": 3,
      "outputs": []
    },
    {
      "cell_type": "code",
      "metadata": {
        "colab": {
          "base_uri": "https://localhost:8080/",
          "height": 382
        },
        "id": "Lb8Pg214brif",
        "outputId": "b53d2188-58fb-4b0b-f02d-92308919d930"
      },
      "source": [
        "energy.head()"
      ],
      "execution_count": 4,
      "outputs": [
        {
          "output_type": "execute_result",
          "data": {
            "text/html": [
              "<div>\n",
              "<style scoped>\n",
              "    .dataframe tbody tr th:only-of-type {\n",
              "        vertical-align: middle;\n",
              "    }\n",
              "\n",
              "    .dataframe tbody tr th {\n",
              "        vertical-align: top;\n",
              "    }\n",
              "\n",
              "    .dataframe thead th {\n",
              "        text-align: right;\n",
              "    }\n",
              "</style>\n",
              "<table border=\"1\" class=\"dataframe\">\n",
              "  <thead>\n",
              "    <tr style=\"text-align: right;\">\n",
              "      <th></th>\n",
              "      <th>time</th>\n",
              "      <th>generation biomass</th>\n",
              "      <th>generation fossil brown coal/lignite</th>\n",
              "      <th>generation fossil coal-derived gas</th>\n",
              "      <th>generation fossil gas</th>\n",
              "      <th>generation fossil hard coal</th>\n",
              "      <th>generation fossil oil</th>\n",
              "      <th>generation fossil oil shale</th>\n",
              "      <th>generation fossil peat</th>\n",
              "      <th>generation geothermal</th>\n",
              "      <th>generation hydro pumped storage aggregated</th>\n",
              "      <th>generation hydro pumped storage consumption</th>\n",
              "      <th>generation hydro run-of-river and poundage</th>\n",
              "      <th>generation hydro water reservoir</th>\n",
              "      <th>generation marine</th>\n",
              "      <th>generation nuclear</th>\n",
              "      <th>generation other</th>\n",
              "      <th>generation other renewable</th>\n",
              "      <th>generation solar</th>\n",
              "      <th>generation waste</th>\n",
              "      <th>generation wind offshore</th>\n",
              "      <th>generation wind onshore</th>\n",
              "      <th>forecast solar day ahead</th>\n",
              "      <th>forecast wind offshore eday ahead</th>\n",
              "      <th>forecast wind onshore day ahead</th>\n",
              "      <th>total load forecast</th>\n",
              "      <th>total load actual</th>\n",
              "      <th>price day ahead</th>\n",
              "      <th>price actual</th>\n",
              "    </tr>\n",
              "  </thead>\n",
              "  <tbody>\n",
              "    <tr>\n",
              "      <th>0</th>\n",
              "      <td>2015-01-01 00:00:00+01:00</td>\n",
              "      <td>447.0</td>\n",
              "      <td>329.0</td>\n",
              "      <td>0.0</td>\n",
              "      <td>4844.0</td>\n",
              "      <td>4821.0</td>\n",
              "      <td>162.0</td>\n",
              "      <td>0.0</td>\n",
              "      <td>0.0</td>\n",
              "      <td>0.0</td>\n",
              "      <td>NaN</td>\n",
              "      <td>863.0</td>\n",
              "      <td>1051.0</td>\n",
              "      <td>1899.0</td>\n",
              "      <td>0.0</td>\n",
              "      <td>7096.0</td>\n",
              "      <td>43.0</td>\n",
              "      <td>73.0</td>\n",
              "      <td>49.0</td>\n",
              "      <td>196.0</td>\n",
              "      <td>0.0</td>\n",
              "      <td>6378.0</td>\n",
              "      <td>17.0</td>\n",
              "      <td>NaN</td>\n",
              "      <td>6436.0</td>\n",
              "      <td>26118.0</td>\n",
              "      <td>25385.0</td>\n",
              "      <td>50.10</td>\n",
              "      <td>65.41</td>\n",
              "    </tr>\n",
              "    <tr>\n",
              "      <th>1</th>\n",
              "      <td>2015-01-01 01:00:00+01:00</td>\n",
              "      <td>449.0</td>\n",
              "      <td>328.0</td>\n",
              "      <td>0.0</td>\n",
              "      <td>5196.0</td>\n",
              "      <td>4755.0</td>\n",
              "      <td>158.0</td>\n",
              "      <td>0.0</td>\n",
              "      <td>0.0</td>\n",
              "      <td>0.0</td>\n",
              "      <td>NaN</td>\n",
              "      <td>920.0</td>\n",
              "      <td>1009.0</td>\n",
              "      <td>1658.0</td>\n",
              "      <td>0.0</td>\n",
              "      <td>7096.0</td>\n",
              "      <td>43.0</td>\n",
              "      <td>71.0</td>\n",
              "      <td>50.0</td>\n",
              "      <td>195.0</td>\n",
              "      <td>0.0</td>\n",
              "      <td>5890.0</td>\n",
              "      <td>16.0</td>\n",
              "      <td>NaN</td>\n",
              "      <td>5856.0</td>\n",
              "      <td>24934.0</td>\n",
              "      <td>24382.0</td>\n",
              "      <td>48.10</td>\n",
              "      <td>64.92</td>\n",
              "    </tr>\n",
              "    <tr>\n",
              "      <th>2</th>\n",
              "      <td>2015-01-01 02:00:00+01:00</td>\n",
              "      <td>448.0</td>\n",
              "      <td>323.0</td>\n",
              "      <td>0.0</td>\n",
              "      <td>4857.0</td>\n",
              "      <td>4581.0</td>\n",
              "      <td>157.0</td>\n",
              "      <td>0.0</td>\n",
              "      <td>0.0</td>\n",
              "      <td>0.0</td>\n",
              "      <td>NaN</td>\n",
              "      <td>1164.0</td>\n",
              "      <td>973.0</td>\n",
              "      <td>1371.0</td>\n",
              "      <td>0.0</td>\n",
              "      <td>7099.0</td>\n",
              "      <td>43.0</td>\n",
              "      <td>73.0</td>\n",
              "      <td>50.0</td>\n",
              "      <td>196.0</td>\n",
              "      <td>0.0</td>\n",
              "      <td>5461.0</td>\n",
              "      <td>8.0</td>\n",
              "      <td>NaN</td>\n",
              "      <td>5454.0</td>\n",
              "      <td>23515.0</td>\n",
              "      <td>22734.0</td>\n",
              "      <td>47.33</td>\n",
              "      <td>64.48</td>\n",
              "    </tr>\n",
              "    <tr>\n",
              "      <th>3</th>\n",
              "      <td>2015-01-01 03:00:00+01:00</td>\n",
              "      <td>438.0</td>\n",
              "      <td>254.0</td>\n",
              "      <td>0.0</td>\n",
              "      <td>4314.0</td>\n",
              "      <td>4131.0</td>\n",
              "      <td>160.0</td>\n",
              "      <td>0.0</td>\n",
              "      <td>0.0</td>\n",
              "      <td>0.0</td>\n",
              "      <td>NaN</td>\n",
              "      <td>1503.0</td>\n",
              "      <td>949.0</td>\n",
              "      <td>779.0</td>\n",
              "      <td>0.0</td>\n",
              "      <td>7098.0</td>\n",
              "      <td>43.0</td>\n",
              "      <td>75.0</td>\n",
              "      <td>50.0</td>\n",
              "      <td>191.0</td>\n",
              "      <td>0.0</td>\n",
              "      <td>5238.0</td>\n",
              "      <td>2.0</td>\n",
              "      <td>NaN</td>\n",
              "      <td>5151.0</td>\n",
              "      <td>22642.0</td>\n",
              "      <td>21286.0</td>\n",
              "      <td>42.27</td>\n",
              "      <td>59.32</td>\n",
              "    </tr>\n",
              "    <tr>\n",
              "      <th>4</th>\n",
              "      <td>2015-01-01 04:00:00+01:00</td>\n",
              "      <td>428.0</td>\n",
              "      <td>187.0</td>\n",
              "      <td>0.0</td>\n",
              "      <td>4130.0</td>\n",
              "      <td>3840.0</td>\n",
              "      <td>156.0</td>\n",
              "      <td>0.0</td>\n",
              "      <td>0.0</td>\n",
              "      <td>0.0</td>\n",
              "      <td>NaN</td>\n",
              "      <td>1826.0</td>\n",
              "      <td>953.0</td>\n",
              "      <td>720.0</td>\n",
              "      <td>0.0</td>\n",
              "      <td>7097.0</td>\n",
              "      <td>43.0</td>\n",
              "      <td>74.0</td>\n",
              "      <td>42.0</td>\n",
              "      <td>189.0</td>\n",
              "      <td>0.0</td>\n",
              "      <td>4935.0</td>\n",
              "      <td>9.0</td>\n",
              "      <td>NaN</td>\n",
              "      <td>4861.0</td>\n",
              "      <td>21785.0</td>\n",
              "      <td>20264.0</td>\n",
              "      <td>38.41</td>\n",
              "      <td>56.04</td>\n",
              "    </tr>\n",
              "  </tbody>\n",
              "</table>\n",
              "</div>"
            ],
            "text/plain": [
              "                        time  generation biomass  ...  price day ahead  price actual\n",
              "0  2015-01-01 00:00:00+01:00               447.0  ...            50.10         65.41\n",
              "1  2015-01-01 01:00:00+01:00               449.0  ...            48.10         64.92\n",
              "2  2015-01-01 02:00:00+01:00               448.0  ...            47.33         64.48\n",
              "3  2015-01-01 03:00:00+01:00               438.0  ...            42.27         59.32\n",
              "4  2015-01-01 04:00:00+01:00               428.0  ...            38.41         56.04\n",
              "\n",
              "[5 rows x 29 columns]"
            ]
          },
          "metadata": {},
          "execution_count": 4
        }
      ]
    },
    {
      "cell_type": "markdown",
      "metadata": {
        "id": "r-pUEHfKmozE"
      },
      "source": [
        "#Exploratory Data Analysis"
      ]
    },
    {
      "cell_type": "markdown",
      "metadata": {
        "id": "8sJzF89pnMof"
      },
      "source": [
        "### Data Exploration"
      ]
    },
    {
      "cell_type": "code",
      "metadata": {
        "colab": {
          "base_uri": "https://localhost:8080/"
        },
        "id": "9EzhcrJwbsHZ",
        "outputId": "afc28860-d117-408b-f6c6-7d6de72975ba"
      },
      "source": [
        "#number of rows and cols\n",
        "energy.shape"
      ],
      "execution_count": 5,
      "outputs": [
        {
          "output_type": "execute_result",
          "data": {
            "text/plain": [
              "(35064, 29)"
            ]
          },
          "metadata": {},
          "execution_count": 5
        }
      ]
    },
    {
      "cell_type": "code",
      "metadata": {
        "colab": {
          "base_uri": "https://localhost:8080/",
          "height": 138
        },
        "id": "8SAgyz9DoQMG",
        "outputId": "42c1b130-9e11-4ffa-ebc2-a49866045e5e"
      },
      "source": [
        "#check for duplicates\n",
        "energy[energy.duplicated()]"
      ],
      "execution_count": 6,
      "outputs": [
        {
          "output_type": "execute_result",
          "data": {
            "text/html": [
              "<div>\n",
              "<style scoped>\n",
              "    .dataframe tbody tr th:only-of-type {\n",
              "        vertical-align: middle;\n",
              "    }\n",
              "\n",
              "    .dataframe tbody tr th {\n",
              "        vertical-align: top;\n",
              "    }\n",
              "\n",
              "    .dataframe thead th {\n",
              "        text-align: right;\n",
              "    }\n",
              "</style>\n",
              "<table border=\"1\" class=\"dataframe\">\n",
              "  <thead>\n",
              "    <tr style=\"text-align: right;\">\n",
              "      <th></th>\n",
              "      <th>time</th>\n",
              "      <th>generation biomass</th>\n",
              "      <th>generation fossil brown coal/lignite</th>\n",
              "      <th>generation fossil coal-derived gas</th>\n",
              "      <th>generation fossil gas</th>\n",
              "      <th>generation fossil hard coal</th>\n",
              "      <th>generation fossil oil</th>\n",
              "      <th>generation fossil oil shale</th>\n",
              "      <th>generation fossil peat</th>\n",
              "      <th>generation geothermal</th>\n",
              "      <th>generation hydro pumped storage aggregated</th>\n",
              "      <th>generation hydro pumped storage consumption</th>\n",
              "      <th>generation hydro run-of-river and poundage</th>\n",
              "      <th>generation hydro water reservoir</th>\n",
              "      <th>generation marine</th>\n",
              "      <th>generation nuclear</th>\n",
              "      <th>generation other</th>\n",
              "      <th>generation other renewable</th>\n",
              "      <th>generation solar</th>\n",
              "      <th>generation waste</th>\n",
              "      <th>generation wind offshore</th>\n",
              "      <th>generation wind onshore</th>\n",
              "      <th>forecast solar day ahead</th>\n",
              "      <th>forecast wind offshore eday ahead</th>\n",
              "      <th>forecast wind onshore day ahead</th>\n",
              "      <th>total load forecast</th>\n",
              "      <th>total load actual</th>\n",
              "      <th>price day ahead</th>\n",
              "      <th>price actual</th>\n",
              "    </tr>\n",
              "  </thead>\n",
              "  <tbody>\n",
              "  </tbody>\n",
              "</table>\n",
              "</div>"
            ],
            "text/plain": [
              "Empty DataFrame\n",
              "Columns: [time, generation biomass, generation fossil brown coal/lignite, generation fossil coal-derived gas, generation fossil gas, generation fossil hard coal, generation fossil oil, generation fossil oil shale, generation fossil peat, generation geothermal, generation hydro pumped storage aggregated, generation hydro pumped storage consumption, generation hydro run-of-river and poundage, generation hydro water reservoir, generation marine, generation nuclear, generation other, generation other renewable, generation solar, generation waste, generation wind offshore, generation wind onshore, forecast solar day ahead, forecast wind offshore eday ahead, forecast wind onshore day ahead, total load forecast, total load actual, price day ahead, price actual]\n",
              "Index: []"
            ]
          },
          "metadata": {},
          "execution_count": 6
        }
      ]
    },
    {
      "cell_type": "markdown",
      "metadata": {
        "id": "R-KNAbgNaP2k"
      },
      "source": [
        "Notes: \n",
        "\n",
        "- There are no duplicated rows"
      ]
    },
    {
      "cell_type": "code",
      "metadata": {
        "colab": {
          "base_uri": "https://localhost:8080/",
          "height": 390
        },
        "id": "RUR2S8hHiSbF",
        "outputId": "f066dce6-1a68-4902-9688-0ea9dea67a2f"
      },
      "source": [
        "#describe the data\n",
        "energy.describe()"
      ],
      "execution_count": 7,
      "outputs": [
        {
          "output_type": "execute_result",
          "data": {
            "text/html": [
              "<div>\n",
              "<style scoped>\n",
              "    .dataframe tbody tr th:only-of-type {\n",
              "        vertical-align: middle;\n",
              "    }\n",
              "\n",
              "    .dataframe tbody tr th {\n",
              "        vertical-align: top;\n",
              "    }\n",
              "\n",
              "    .dataframe thead th {\n",
              "        text-align: right;\n",
              "    }\n",
              "</style>\n",
              "<table border=\"1\" class=\"dataframe\">\n",
              "  <thead>\n",
              "    <tr style=\"text-align: right;\">\n",
              "      <th></th>\n",
              "      <th>generation biomass</th>\n",
              "      <th>generation fossil brown coal/lignite</th>\n",
              "      <th>generation fossil coal-derived gas</th>\n",
              "      <th>generation fossil gas</th>\n",
              "      <th>generation fossil hard coal</th>\n",
              "      <th>generation fossil oil</th>\n",
              "      <th>generation fossil oil shale</th>\n",
              "      <th>generation fossil peat</th>\n",
              "      <th>generation geothermal</th>\n",
              "      <th>generation hydro pumped storage aggregated</th>\n",
              "      <th>generation hydro pumped storage consumption</th>\n",
              "      <th>generation hydro run-of-river and poundage</th>\n",
              "      <th>generation hydro water reservoir</th>\n",
              "      <th>generation marine</th>\n",
              "      <th>generation nuclear</th>\n",
              "      <th>generation other</th>\n",
              "      <th>generation other renewable</th>\n",
              "      <th>generation solar</th>\n",
              "      <th>generation waste</th>\n",
              "      <th>generation wind offshore</th>\n",
              "      <th>generation wind onshore</th>\n",
              "      <th>forecast solar day ahead</th>\n",
              "      <th>forecast wind offshore eday ahead</th>\n",
              "      <th>forecast wind onshore day ahead</th>\n",
              "      <th>total load forecast</th>\n",
              "      <th>total load actual</th>\n",
              "      <th>price day ahead</th>\n",
              "      <th>price actual</th>\n",
              "    </tr>\n",
              "  </thead>\n",
              "  <tbody>\n",
              "    <tr>\n",
              "      <th>count</th>\n",
              "      <td>35045.000000</td>\n",
              "      <td>35046.000000</td>\n",
              "      <td>35046.0</td>\n",
              "      <td>35046.000000</td>\n",
              "      <td>35046.000000</td>\n",
              "      <td>35045.000000</td>\n",
              "      <td>35046.0</td>\n",
              "      <td>35046.0</td>\n",
              "      <td>35046.0</td>\n",
              "      <td>0.0</td>\n",
              "      <td>35045.000000</td>\n",
              "      <td>35045.000000</td>\n",
              "      <td>35046.000000</td>\n",
              "      <td>35045.0</td>\n",
              "      <td>35047.000000</td>\n",
              "      <td>35046.000000</td>\n",
              "      <td>35046.000000</td>\n",
              "      <td>35046.000000</td>\n",
              "      <td>35045.000000</td>\n",
              "      <td>35046.0</td>\n",
              "      <td>35046.000000</td>\n",
              "      <td>35064.000000</td>\n",
              "      <td>0.0</td>\n",
              "      <td>35064.000000</td>\n",
              "      <td>35064.000000</td>\n",
              "      <td>35028.000000</td>\n",
              "      <td>35064.000000</td>\n",
              "      <td>35064.000000</td>\n",
              "    </tr>\n",
              "    <tr>\n",
              "      <th>mean</th>\n",
              "      <td>383.513540</td>\n",
              "      <td>448.059208</td>\n",
              "      <td>0.0</td>\n",
              "      <td>5622.737488</td>\n",
              "      <td>4256.065742</td>\n",
              "      <td>298.319789</td>\n",
              "      <td>0.0</td>\n",
              "      <td>0.0</td>\n",
              "      <td>0.0</td>\n",
              "      <td>NaN</td>\n",
              "      <td>475.577343</td>\n",
              "      <td>972.116108</td>\n",
              "      <td>2605.114735</td>\n",
              "      <td>0.0</td>\n",
              "      <td>6263.907039</td>\n",
              "      <td>60.228585</td>\n",
              "      <td>85.639702</td>\n",
              "      <td>1432.665925</td>\n",
              "      <td>269.452133</td>\n",
              "      <td>0.0</td>\n",
              "      <td>5464.479769</td>\n",
              "      <td>1439.066735</td>\n",
              "      <td>NaN</td>\n",
              "      <td>5471.216689</td>\n",
              "      <td>28712.129962</td>\n",
              "      <td>28696.939905</td>\n",
              "      <td>49.874341</td>\n",
              "      <td>57.884023</td>\n",
              "    </tr>\n",
              "    <tr>\n",
              "      <th>std</th>\n",
              "      <td>85.353943</td>\n",
              "      <td>354.568590</td>\n",
              "      <td>0.0</td>\n",
              "      <td>2201.830478</td>\n",
              "      <td>1961.601013</td>\n",
              "      <td>52.520673</td>\n",
              "      <td>0.0</td>\n",
              "      <td>0.0</td>\n",
              "      <td>0.0</td>\n",
              "      <td>NaN</td>\n",
              "      <td>792.406614</td>\n",
              "      <td>400.777536</td>\n",
              "      <td>1835.199745</td>\n",
              "      <td>0.0</td>\n",
              "      <td>839.667958</td>\n",
              "      <td>20.238381</td>\n",
              "      <td>14.077554</td>\n",
              "      <td>1680.119887</td>\n",
              "      <td>50.195536</td>\n",
              "      <td>0.0</td>\n",
              "      <td>3213.691587</td>\n",
              "      <td>1677.703355</td>\n",
              "      <td>NaN</td>\n",
              "      <td>3176.312853</td>\n",
              "      <td>4594.100854</td>\n",
              "      <td>4574.987950</td>\n",
              "      <td>14.618900</td>\n",
              "      <td>14.204083</td>\n",
              "    </tr>\n",
              "    <tr>\n",
              "      <th>min</th>\n",
              "      <td>0.000000</td>\n",
              "      <td>0.000000</td>\n",
              "      <td>0.0</td>\n",
              "      <td>0.000000</td>\n",
              "      <td>0.000000</td>\n",
              "      <td>0.000000</td>\n",
              "      <td>0.0</td>\n",
              "      <td>0.0</td>\n",
              "      <td>0.0</td>\n",
              "      <td>NaN</td>\n",
              "      <td>0.000000</td>\n",
              "      <td>0.000000</td>\n",
              "      <td>0.000000</td>\n",
              "      <td>0.0</td>\n",
              "      <td>0.000000</td>\n",
              "      <td>0.000000</td>\n",
              "      <td>0.000000</td>\n",
              "      <td>0.000000</td>\n",
              "      <td>0.000000</td>\n",
              "      <td>0.0</td>\n",
              "      <td>0.000000</td>\n",
              "      <td>0.000000</td>\n",
              "      <td>NaN</td>\n",
              "      <td>237.000000</td>\n",
              "      <td>18105.000000</td>\n",
              "      <td>18041.000000</td>\n",
              "      <td>2.060000</td>\n",
              "      <td>9.330000</td>\n",
              "    </tr>\n",
              "    <tr>\n",
              "      <th>25%</th>\n",
              "      <td>333.000000</td>\n",
              "      <td>0.000000</td>\n",
              "      <td>0.0</td>\n",
              "      <td>4126.000000</td>\n",
              "      <td>2527.000000</td>\n",
              "      <td>263.000000</td>\n",
              "      <td>0.0</td>\n",
              "      <td>0.0</td>\n",
              "      <td>0.0</td>\n",
              "      <td>NaN</td>\n",
              "      <td>0.000000</td>\n",
              "      <td>637.000000</td>\n",
              "      <td>1077.250000</td>\n",
              "      <td>0.0</td>\n",
              "      <td>5760.000000</td>\n",
              "      <td>53.000000</td>\n",
              "      <td>73.000000</td>\n",
              "      <td>71.000000</td>\n",
              "      <td>240.000000</td>\n",
              "      <td>0.0</td>\n",
              "      <td>2933.000000</td>\n",
              "      <td>69.000000</td>\n",
              "      <td>NaN</td>\n",
              "      <td>2979.000000</td>\n",
              "      <td>24793.750000</td>\n",
              "      <td>24807.750000</td>\n",
              "      <td>41.490000</td>\n",
              "      <td>49.347500</td>\n",
              "    </tr>\n",
              "    <tr>\n",
              "      <th>50%</th>\n",
              "      <td>367.000000</td>\n",
              "      <td>509.000000</td>\n",
              "      <td>0.0</td>\n",
              "      <td>4969.000000</td>\n",
              "      <td>4474.000000</td>\n",
              "      <td>300.000000</td>\n",
              "      <td>0.0</td>\n",
              "      <td>0.0</td>\n",
              "      <td>0.0</td>\n",
              "      <td>NaN</td>\n",
              "      <td>68.000000</td>\n",
              "      <td>906.000000</td>\n",
              "      <td>2164.000000</td>\n",
              "      <td>0.0</td>\n",
              "      <td>6566.000000</td>\n",
              "      <td>57.000000</td>\n",
              "      <td>88.000000</td>\n",
              "      <td>616.000000</td>\n",
              "      <td>279.000000</td>\n",
              "      <td>0.0</td>\n",
              "      <td>4849.000000</td>\n",
              "      <td>576.000000</td>\n",
              "      <td>NaN</td>\n",
              "      <td>4855.000000</td>\n",
              "      <td>28906.000000</td>\n",
              "      <td>28901.000000</td>\n",
              "      <td>50.520000</td>\n",
              "      <td>58.020000</td>\n",
              "    </tr>\n",
              "    <tr>\n",
              "      <th>75%</th>\n",
              "      <td>433.000000</td>\n",
              "      <td>757.000000</td>\n",
              "      <td>0.0</td>\n",
              "      <td>6429.000000</td>\n",
              "      <td>5838.750000</td>\n",
              "      <td>330.000000</td>\n",
              "      <td>0.0</td>\n",
              "      <td>0.0</td>\n",
              "      <td>0.0</td>\n",
              "      <td>NaN</td>\n",
              "      <td>616.000000</td>\n",
              "      <td>1250.000000</td>\n",
              "      <td>3757.000000</td>\n",
              "      <td>0.0</td>\n",
              "      <td>7025.000000</td>\n",
              "      <td>80.000000</td>\n",
              "      <td>97.000000</td>\n",
              "      <td>2578.000000</td>\n",
              "      <td>310.000000</td>\n",
              "      <td>0.0</td>\n",
              "      <td>7398.000000</td>\n",
              "      <td>2636.000000</td>\n",
              "      <td>NaN</td>\n",
              "      <td>7353.000000</td>\n",
              "      <td>32263.250000</td>\n",
              "      <td>32192.000000</td>\n",
              "      <td>60.530000</td>\n",
              "      <td>68.010000</td>\n",
              "    </tr>\n",
              "    <tr>\n",
              "      <th>max</th>\n",
              "      <td>592.000000</td>\n",
              "      <td>999.000000</td>\n",
              "      <td>0.0</td>\n",
              "      <td>20034.000000</td>\n",
              "      <td>8359.000000</td>\n",
              "      <td>449.000000</td>\n",
              "      <td>0.0</td>\n",
              "      <td>0.0</td>\n",
              "      <td>0.0</td>\n",
              "      <td>NaN</td>\n",
              "      <td>4523.000000</td>\n",
              "      <td>2000.000000</td>\n",
              "      <td>9728.000000</td>\n",
              "      <td>0.0</td>\n",
              "      <td>7117.000000</td>\n",
              "      <td>106.000000</td>\n",
              "      <td>119.000000</td>\n",
              "      <td>5792.000000</td>\n",
              "      <td>357.000000</td>\n",
              "      <td>0.0</td>\n",
              "      <td>17436.000000</td>\n",
              "      <td>5836.000000</td>\n",
              "      <td>NaN</td>\n",
              "      <td>17430.000000</td>\n",
              "      <td>41390.000000</td>\n",
              "      <td>41015.000000</td>\n",
              "      <td>101.990000</td>\n",
              "      <td>116.800000</td>\n",
              "    </tr>\n",
              "  </tbody>\n",
              "</table>\n",
              "</div>"
            ],
            "text/plain": [
              "       generation biomass  ...  price actual\n",
              "count        35045.000000  ...  35064.000000\n",
              "mean           383.513540  ...     57.884023\n",
              "std             85.353943  ...     14.204083\n",
              "min              0.000000  ...      9.330000\n",
              "25%            333.000000  ...     49.347500\n",
              "50%            367.000000  ...     58.020000\n",
              "75%            433.000000  ...     68.010000\n",
              "max            592.000000  ...    116.800000\n",
              "\n",
              "[8 rows x 28 columns]"
            ]
          },
          "metadata": {},
          "execution_count": 7
        }
      ]
    },
    {
      "cell_type": "markdown",
      "metadata": {
        "id": "LEmcbjjyamkd"
      },
      "source": [
        "Notes: \n",
        "\n",
        "- There are a lot of nan values and 0s."
      ]
    },
    {
      "cell_type": "code",
      "metadata": {
        "colab": {
          "base_uri": "https://localhost:8080/",
          "height": 300
        },
        "id": "qfiXfug1oXmG",
        "outputId": "b4b4800e-c7e4-42cc-e01f-4965c29e27fa"
      },
      "source": [
        "#since target varibale will be 'price actual'\n",
        "energy[['price actual']].describe()"
      ],
      "execution_count": 8,
      "outputs": [
        {
          "output_type": "execute_result",
          "data": {
            "text/html": [
              "<div>\n",
              "<style scoped>\n",
              "    .dataframe tbody tr th:only-of-type {\n",
              "        vertical-align: middle;\n",
              "    }\n",
              "\n",
              "    .dataframe tbody tr th {\n",
              "        vertical-align: top;\n",
              "    }\n",
              "\n",
              "    .dataframe thead th {\n",
              "        text-align: right;\n",
              "    }\n",
              "</style>\n",
              "<table border=\"1\" class=\"dataframe\">\n",
              "  <thead>\n",
              "    <tr style=\"text-align: right;\">\n",
              "      <th></th>\n",
              "      <th>price actual</th>\n",
              "    </tr>\n",
              "  </thead>\n",
              "  <tbody>\n",
              "    <tr>\n",
              "      <th>count</th>\n",
              "      <td>35064.000000</td>\n",
              "    </tr>\n",
              "    <tr>\n",
              "      <th>mean</th>\n",
              "      <td>57.884023</td>\n",
              "    </tr>\n",
              "    <tr>\n",
              "      <th>std</th>\n",
              "      <td>14.204083</td>\n",
              "    </tr>\n",
              "    <tr>\n",
              "      <th>min</th>\n",
              "      <td>9.330000</td>\n",
              "    </tr>\n",
              "    <tr>\n",
              "      <th>25%</th>\n",
              "      <td>49.347500</td>\n",
              "    </tr>\n",
              "    <tr>\n",
              "      <th>50%</th>\n",
              "      <td>58.020000</td>\n",
              "    </tr>\n",
              "    <tr>\n",
              "      <th>75%</th>\n",
              "      <td>68.010000</td>\n",
              "    </tr>\n",
              "    <tr>\n",
              "      <th>max</th>\n",
              "      <td>116.800000</td>\n",
              "    </tr>\n",
              "  </tbody>\n",
              "</table>\n",
              "</div>"
            ],
            "text/plain": [
              "       price actual\n",
              "count  35064.000000\n",
              "mean      57.884023\n",
              "std       14.204083\n",
              "min        9.330000\n",
              "25%       49.347500\n",
              "50%       58.020000\n",
              "75%       68.010000\n",
              "max      116.800000"
            ]
          },
          "metadata": {},
          "execution_count": 8
        }
      ]
    },
    {
      "cell_type": "markdown",
      "metadata": {
        "id": "RLDbI93Gausm"
      },
      "source": [
        "Notes: \n",
        "\n",
        "- There are no negative prices, which is good."
      ]
    },
    {
      "cell_type": "code",
      "metadata": {
        "colab": {
          "base_uri": "https://localhost:8080/"
        },
        "id": "JK39v_AJmTgL",
        "outputId": "3228aee4-ecb8-4151-fc5b-db1f70ba27bb"
      },
      "source": [
        "#check out dtypes\n",
        "energy.info()"
      ],
      "execution_count": 9,
      "outputs": [
        {
          "output_type": "stream",
          "name": "stdout",
          "text": [
            "<class 'pandas.core.frame.DataFrame'>\n",
            "RangeIndex: 35064 entries, 0 to 35063\n",
            "Data columns (total 29 columns):\n",
            " #   Column                                       Non-Null Count  Dtype  \n",
            "---  ------                                       --------------  -----  \n",
            " 0   time                                         35064 non-null  object \n",
            " 1   generation biomass                           35045 non-null  float64\n",
            " 2   generation fossil brown coal/lignite         35046 non-null  float64\n",
            " 3   generation fossil coal-derived gas           35046 non-null  float64\n",
            " 4   generation fossil gas                        35046 non-null  float64\n",
            " 5   generation fossil hard coal                  35046 non-null  float64\n",
            " 6   generation fossil oil                        35045 non-null  float64\n",
            " 7   generation fossil oil shale                  35046 non-null  float64\n",
            " 8   generation fossil peat                       35046 non-null  float64\n",
            " 9   generation geothermal                        35046 non-null  float64\n",
            " 10  generation hydro pumped storage aggregated   0 non-null      float64\n",
            " 11  generation hydro pumped storage consumption  35045 non-null  float64\n",
            " 12  generation hydro run-of-river and poundage   35045 non-null  float64\n",
            " 13  generation hydro water reservoir             35046 non-null  float64\n",
            " 14  generation marine                            35045 non-null  float64\n",
            " 15  generation nuclear                           35047 non-null  float64\n",
            " 16  generation other                             35046 non-null  float64\n",
            " 17  generation other renewable                   35046 non-null  float64\n",
            " 18  generation solar                             35046 non-null  float64\n",
            " 19  generation waste                             35045 non-null  float64\n",
            " 20  generation wind offshore                     35046 non-null  float64\n",
            " 21  generation wind onshore                      35046 non-null  float64\n",
            " 22  forecast solar day ahead                     35064 non-null  float64\n",
            " 23  forecast wind offshore eday ahead            0 non-null      float64\n",
            " 24  forecast wind onshore day ahead              35064 non-null  float64\n",
            " 25  total load forecast                          35064 non-null  float64\n",
            " 26  total load actual                            35028 non-null  float64\n",
            " 27  price day ahead                              35064 non-null  float64\n",
            " 28  price actual                                 35064 non-null  float64\n",
            "dtypes: float64(28), object(1)\n",
            "memory usage: 7.8+ MB\n"
          ]
        }
      ]
    },
    {
      "cell_type": "markdown",
      "metadata": {
        "id": "IRm6oRrkbdDL"
      },
      "source": [
        "Notes: \n",
        "\n",
        "- Dtypes look accurate."
      ]
    },
    {
      "cell_type": "code",
      "metadata": {
        "colab": {
          "base_uri": "https://localhost:8080/"
        },
        "id": "aWxR9XbPmUZD",
        "outputId": "191a728e-ea4b-46f4-ac51-c1ccc16e1c75"
      },
      "source": [
        "#total number of null values\n",
        "energy.isnull().sum()"
      ],
      "execution_count": 10,
      "outputs": [
        {
          "output_type": "execute_result",
          "data": {
            "text/plain": [
              "time                                               0\n",
              "generation biomass                                19\n",
              "generation fossil brown coal/lignite              18\n",
              "generation fossil coal-derived gas                18\n",
              "generation fossil gas                             18\n",
              "generation fossil hard coal                       18\n",
              "generation fossil oil                             19\n",
              "generation fossil oil shale                       18\n",
              "generation fossil peat                            18\n",
              "generation geothermal                             18\n",
              "generation hydro pumped storage aggregated     35064\n",
              "generation hydro pumped storage consumption       19\n",
              "generation hydro run-of-river and poundage        19\n",
              "generation hydro water reservoir                  18\n",
              "generation marine                                 19\n",
              "generation nuclear                                17\n",
              "generation other                                  18\n",
              "generation other renewable                        18\n",
              "generation solar                                  18\n",
              "generation waste                                  19\n",
              "generation wind offshore                          18\n",
              "generation wind onshore                           18\n",
              "forecast solar day ahead                           0\n",
              "forecast wind offshore eday ahead              35064\n",
              "forecast wind onshore day ahead                    0\n",
              "total load forecast                                0\n",
              "total load actual                                 36\n",
              "price day ahead                                    0\n",
              "price actual                                       0\n",
              "dtype: int64"
            ]
          },
          "metadata": {},
          "execution_count": 10
        }
      ]
    },
    {
      "cell_type": "markdown",
      "metadata": {
        "id": "vpnzdasAbg_t"
      },
      "source": [
        "Notes: \n",
        "\n",
        "- Some columns have the same amount of null values as rows.\n",
        "- some rows are fluctuating"
      ]
    },
    {
      "cell_type": "code",
      "metadata": {
        "colab": {
          "base_uri": "https://localhost:8080/",
          "height": 770
        },
        "id": "uxYbh0EDmYES",
        "outputId": "2e24b1ab-89ba-4fe9-9f85-a1397103cddd"
      },
      "source": [
        "#correlation matrix\n",
        "corr = energy.corr(method = 'pearson')\n",
        "fig, ax = plt.subplots(figsize=(12, 9))\n",
        "sns.heatmap(corr, linewidths=.5, cmap='YlGnBu');"
      ],
      "execution_count": 11,
      "outputs": [
        {
          "output_type": "display_data",
          "data": {
            "image/png": "[encoded data removed]",
            "text/plain": [
              "<Figure size 864x648 with 2 Axes>"
            ]
          },
          "metadata": {
            "needs_background": "light"
          }
        }
      ]
    },
    {
      "cell_type": "markdown",
      "metadata": {
        "id": "izqVXzT5b97n"
      },
      "source": [
        "Notes: \n",
        "\n",
        "- Clean up will include the removal of blank rows or items with an index of 0"
      ]
    },
    {
      "cell_type": "code",
      "metadata": {
        "id": "ZSscCdItpgTr"
      },
      "source": [
        "#these columns are essentially useless since they have 100% rows missing or 0 items\n",
        "drop_cols = ['generation hydro pumped storage aggregated',\n",
        "          'forecast wind offshore eday ahead',\n",
        "          'generation fossil coal-derived gas',\n",
        "          'generation fossil oil shale',\n",
        "          'generation fossil peat',\n",
        "          'generation geothermal',\n",
        "          'generation marine',\n",
        "          'generation wind offshore',\n",
        "          'total load actual',\n",
        "          'time']"
      ],
      "execution_count": 12,
      "outputs": []
    },
    {
      "cell_type": "code",
      "metadata": {
        "colab": {
          "base_uri": "https://localhost:8080/",
          "height": 770
        },
        "id": "9U7T0XntnjUY",
        "outputId": "18bca132-2e7f-4860-e419-2d563d24be35"
      },
      "source": [
        "#correlation matrix\n",
        "corr = energy.drop(drop_cols, axis = 1).corr(method = 'pearson')\n",
        "fig, ax = plt.subplots(figsize=(12, 9))\n",
        "sns.heatmap(corr, linewidths=.5, cmap='YlGnBu');"
      ],
      "execution_count": 13,
      "outputs": [
        {
          "output_type": "display_data",
          "data": {
            "image/png": "[encoded data removed]",
            "text/plain": [
              "<Figure size 864x648 with 2 Axes>"
            ]
          },
          "metadata": {
            "needs_background": "light"
          }
        }
      ]
    },
    {
      "cell_type": "code",
      "metadata": {
        "colab": {
          "base_uri": "https://localhost:8080/"
        },
        "id": "T0m5Msz2WOnd",
        "outputId": "1acadf1e-4ded-46c7-dac8-62d57d8132e8"
      },
      "source": [
        "#top 6 correlations to price actual\n",
        "corr.nlargest(6, 'price actual')['price actual']"
      ],
      "execution_count": 14,
      "outputs": [
        {
          "output_type": "execute_result",
          "data": {
            "text/plain": [
              "price actual                            1.000000\n",
              "price day ahead                         0.732155\n",
              "generation fossil hard coal             0.465641\n",
              "generation fossil gas                   0.461706\n",
              "total load forecast                     0.435864\n",
              "generation fossil brown coal/lignite    0.364088\n",
              "Name: price actual, dtype: float64"
            ]
          },
          "metadata": {},
          "execution_count": 14
        }
      ]
    },
    {
      "cell_type": "markdown",
      "metadata": {
        "id": "QlYtpdjNZzVt"
      },
      "source": [
        "Notes\n",
        "\n",
        "- only price day ahead has a relatively positive correlation, all other values are closer to no correlation at all"
      ]
    },
    {
      "cell_type": "code",
      "metadata": {
        "colab": {
          "base_uri": "https://localhost:8080/",
          "height": 568
        },
        "id": "RPpgX50YqFIc",
        "outputId": "e1ba5163-f2f2-46e7-b9df-98435145fde9"
      },
      "source": [
        "#Sturges Rule number of bins\n",
        "bins = round(1+3.322*np.log(energy.shape[0]))\n",
        "\n",
        "#Histogram\n",
        "fig, ax = plt.subplots(figsize=(12, 9))\n",
        "#Bins Calculated from the Square Root method\n",
        "sns.distplot(energy['price actual'], rug=True, rug_kws={'color':'g', 'height':0.05, 'lw':.5}, bins = bins)\n",
        "\n",
        "#set labels\n",
        "ax.set_title('Actual Price Histogram')\n",
        "ax.set_xlabel(f'Actual Price (bins = {39})')\n",
        "ax.set_ylabel('Probability')\n",
        "\n",
        "#set legends\n",
        "ax.text(x=0.97, y=0.27, transform=ax.transAxes, s=\"Skewness: %f\" % energy['price actual'].skew(),\\\n",
        "  fontweight='demibold', fontsize=12, verticalalignment='top', horizontalalignment='right',\\\n",
        "  color='xkcd:mustard')\n",
        "ax.text(x=0.97, y=0.21, transform=ax.transAxes, s=\"Kurtosis: %f\" % energy['price actual'].kurt(),\\\n",
        "  fontweight='demibold', fontsize=12, verticalalignment='top', horizontalalignment='right',\\\n",
        "  color='xkcd:aquamarine')\n",
        "\n",
        "\n",
        "\n",
        "sns.despine(offset=2, trim=True)\n"
      ],
      "execution_count": 15,
      "outputs": [
        {
          "output_type": "display_data",
          "data": {
            "image/png": "[encoded data removed]",
            "text/plain": [
              "<Figure size 864x648 with 1 Axes>"
            ]
          },
          "metadata": {
            "needs_background": "light"
          }
        }
      ]
    },
    {
      "cell_type": "markdown",
      "metadata": {
        "id": "GhzgEGPQcPqL"
      },
      "source": [
        "Notes: \n",
        "\n",
        "- Judging from the skewness, the histogram is fairly symetrical with a relatively normal distribution\n",
        "- Kurtosis show that the prices are Platykurtic, which is a good indicator of less outliers\n",
        "- Rugplot shows the distribution of values within histogram, and the values are rather centralized."
      ]
    },
    {
      "cell_type": "markdown",
      "metadata": {
        "id": "cl_l97sryAwT"
      },
      "source": [
        "### Data Cleaning"
      ]
    },
    {
      "cell_type": "code",
      "metadata": {
        "id": "kEzXc2XEyAeW"
      },
      "source": [
        "#these orginial columns are dropped\n",
        "energy.drop(columns = drop_cols, inplace = True)"
      ],
      "execution_count": 16,
      "outputs": []
    },
    {
      "cell_type": "code",
      "metadata": {
        "colab": {
          "base_uri": "https://localhost:8080/",
          "height": 860
        },
        "id": "V_I5w8_nGrrK",
        "outputId": "c97eba19-955c-4a47-93b7-716d469563fd"
      },
      "source": [
        "#shows all rows with nan values\n",
        "energy[energy.isna().any(axis=1)]"
      ],
      "execution_count": 17,
      "outputs": [
        {
          "output_type": "execute_result",
          "data": {
            "text/html": [
              "<div>\n",
              "<style scoped>\n",
              "    .dataframe tbody tr th:only-of-type {\n",
              "        vertical-align: middle;\n",
              "    }\n",
              "\n",
              "    .dataframe tbody tr th {\n",
              "        vertical-align: top;\n",
              "    }\n",
              "\n",
              "    .dataframe thead th {\n",
              "        text-align: right;\n",
              "    }\n",
              "</style>\n",
              "<table border=\"1\" class=\"dataframe\">\n",
              "  <thead>\n",
              "    <tr style=\"text-align: right;\">\n",
              "      <th></th>\n",
              "      <th>generation biomass</th>\n",
              "      <th>generation fossil brown coal/lignite</th>\n",
              "      <th>generation fossil gas</th>\n",
              "      <th>generation fossil hard coal</th>\n",
              "      <th>generation fossil oil</th>\n",
              "      <th>generation hydro pumped storage consumption</th>\n",
              "      <th>generation hydro run-of-river and poundage</th>\n",
              "      <th>generation hydro water reservoir</th>\n",
              "      <th>generation nuclear</th>\n",
              "      <th>generation other</th>\n",
              "      <th>generation other renewable</th>\n",
              "      <th>generation solar</th>\n",
              "      <th>generation waste</th>\n",
              "      <th>generation wind onshore</th>\n",
              "      <th>forecast solar day ahead</th>\n",
              "      <th>forecast wind onshore day ahead</th>\n",
              "      <th>total load forecast</th>\n",
              "      <th>price day ahead</th>\n",
              "      <th>price actual</th>\n",
              "    </tr>\n",
              "  </thead>\n",
              "  <tbody>\n",
              "    <tr>\n",
              "      <th>99</th>\n",
              "      <td>NaN</td>\n",
              "      <td>NaN</td>\n",
              "      <td>NaN</td>\n",
              "      <td>NaN</td>\n",
              "      <td>NaN</td>\n",
              "      <td>NaN</td>\n",
              "      <td>NaN</td>\n",
              "      <td>NaN</td>\n",
              "      <td>NaN</td>\n",
              "      <td>NaN</td>\n",
              "      <td>NaN</td>\n",
              "      <td>NaN</td>\n",
              "      <td>NaN</td>\n",
              "      <td>NaN</td>\n",
              "      <td>546.0</td>\n",
              "      <td>8233.0</td>\n",
              "      <td>21912.0</td>\n",
              "      <td>35.20</td>\n",
              "      <td>59.68</td>\n",
              "    </tr>\n",
              "    <tr>\n",
              "      <th>108</th>\n",
              "      <td>NaN</td>\n",
              "      <td>NaN</td>\n",
              "      <td>NaN</td>\n",
              "      <td>NaN</td>\n",
              "      <td>NaN</td>\n",
              "      <td>NaN</td>\n",
              "      <td>NaN</td>\n",
              "      <td>NaN</td>\n",
              "      <td>NaN</td>\n",
              "      <td>NaN</td>\n",
              "      <td>NaN</td>\n",
              "      <td>NaN</td>\n",
              "      <td>NaN</td>\n",
              "      <td>NaN</td>\n",
              "      <td>3932.0</td>\n",
              "      <td>9258.0</td>\n",
              "      <td>23209.0</td>\n",
              "      <td>35.50</td>\n",
              "      <td>79.14</td>\n",
              "    </tr>\n",
              "    <tr>\n",
              "      <th>109</th>\n",
              "      <td>NaN</td>\n",
              "      <td>NaN</td>\n",
              "      <td>NaN</td>\n",
              "      <td>NaN</td>\n",
              "      <td>NaN</td>\n",
              "      <td>NaN</td>\n",
              "      <td>NaN</td>\n",
              "      <td>NaN</td>\n",
              "      <td>NaN</td>\n",
              "      <td>NaN</td>\n",
              "      <td>NaN</td>\n",
              "      <td>NaN</td>\n",
              "      <td>NaN</td>\n",
              "      <td>NaN</td>\n",
              "      <td>4236.0</td>\n",
              "      <td>9156.0</td>\n",
              "      <td>23725.0</td>\n",
              "      <td>36.80</td>\n",
              "      <td>73.95</td>\n",
              "    </tr>\n",
              "    <tr>\n",
              "      <th>110</th>\n",
              "      <td>NaN</td>\n",
              "      <td>NaN</td>\n",
              "      <td>NaN</td>\n",
              "      <td>NaN</td>\n",
              "      <td>NaN</td>\n",
              "      <td>NaN</td>\n",
              "      <td>NaN</td>\n",
              "      <td>NaN</td>\n",
              "      <td>NaN</td>\n",
              "      <td>NaN</td>\n",
              "      <td>NaN</td>\n",
              "      <td>NaN</td>\n",
              "      <td>NaN</td>\n",
              "      <td>NaN</td>\n",
              "      <td>4215.0</td>\n",
              "      <td>9072.0</td>\n",
              "      <td>23614.0</td>\n",
              "      <td>32.50</td>\n",
              "      <td>71.93</td>\n",
              "    </tr>\n",
              "    <tr>\n",
              "      <th>111</th>\n",
              "      <td>NaN</td>\n",
              "      <td>NaN</td>\n",
              "      <td>NaN</td>\n",
              "      <td>NaN</td>\n",
              "      <td>NaN</td>\n",
              "      <td>NaN</td>\n",
              "      <td>NaN</td>\n",
              "      <td>NaN</td>\n",
              "      <td>NaN</td>\n",
              "      <td>NaN</td>\n",
              "      <td>NaN</td>\n",
              "      <td>NaN</td>\n",
              "      <td>NaN</td>\n",
              "      <td>NaN</td>\n",
              "      <td>4050.0</td>\n",
              "      <td>8779.0</td>\n",
              "      <td>22381.0</td>\n",
              "      <td>30.00</td>\n",
              "      <td>71.50</td>\n",
              "    </tr>\n",
              "    <tr>\n",
              "      <th>112</th>\n",
              "      <td>NaN</td>\n",
              "      <td>NaN</td>\n",
              "      <td>NaN</td>\n",
              "      <td>NaN</td>\n",
              "      <td>NaN</td>\n",
              "      <td>NaN</td>\n",
              "      <td>NaN</td>\n",
              "      <td>NaN</td>\n",
              "      <td>NaN</td>\n",
              "      <td>NaN</td>\n",
              "      <td>NaN</td>\n",
              "      <td>NaN</td>\n",
              "      <td>NaN</td>\n",
              "      <td>NaN</td>\n",
              "      <td>3728.0</td>\n",
              "      <td>8426.0</td>\n",
              "      <td>21371.0</td>\n",
              "      <td>30.00</td>\n",
              "      <td>71.85</td>\n",
              "    </tr>\n",
              "    <tr>\n",
              "      <th>113</th>\n",
              "      <td>NaN</td>\n",
              "      <td>NaN</td>\n",
              "      <td>NaN</td>\n",
              "      <td>NaN</td>\n",
              "      <td>NaN</td>\n",
              "      <td>NaN</td>\n",
              "      <td>NaN</td>\n",
              "      <td>NaN</td>\n",
              "      <td>NaN</td>\n",
              "      <td>NaN</td>\n",
              "      <td>NaN</td>\n",
              "      <td>NaN</td>\n",
              "      <td>NaN</td>\n",
              "      <td>NaN</td>\n",
              "      <td>3175.0</td>\n",
              "      <td>7946.0</td>\n",
              "      <td>20760.0</td>\n",
              "      <td>30.60</td>\n",
              "      <td>80.53</td>\n",
              "    </tr>\n",
              "    <tr>\n",
              "      <th>451</th>\n",
              "      <td>NaN</td>\n",
              "      <td>NaN</td>\n",
              "      <td>NaN</td>\n",
              "      <td>NaN</td>\n",
              "      <td>NaN</td>\n",
              "      <td>NaN</td>\n",
              "      <td>NaN</td>\n",
              "      <td>NaN</td>\n",
              "      <td>NaN</td>\n",
              "      <td>NaN</td>\n",
              "      <td>NaN</td>\n",
              "      <td>NaN</td>\n",
              "      <td>NaN</td>\n",
              "      <td>NaN</td>\n",
              "      <td>91.0</td>\n",
              "      <td>6434.0</td>\n",
              "      <td>38642.0</td>\n",
              "      <td>70.01</td>\n",
              "      <td>88.95</td>\n",
              "    </tr>\n",
              "    <tr>\n",
              "      <th>452</th>\n",
              "      <td>NaN</td>\n",
              "      <td>NaN</td>\n",
              "      <td>NaN</td>\n",
              "      <td>NaN</td>\n",
              "      <td>NaN</td>\n",
              "      <td>NaN</td>\n",
              "      <td>NaN</td>\n",
              "      <td>NaN</td>\n",
              "      <td>NaN</td>\n",
              "      <td>NaN</td>\n",
              "      <td>NaN</td>\n",
              "      <td>NaN</td>\n",
              "      <td>NaN</td>\n",
              "      <td>NaN</td>\n",
              "      <td>28.0</td>\n",
              "      <td>6907.0</td>\n",
              "      <td>38758.0</td>\n",
              "      <td>69.00</td>\n",
              "      <td>87.94</td>\n",
              "    </tr>\n",
              "    <tr>\n",
              "      <th>643</th>\n",
              "      <td>NaN</td>\n",
              "      <td>NaN</td>\n",
              "      <td>NaN</td>\n",
              "      <td>NaN</td>\n",
              "      <td>NaN</td>\n",
              "      <td>NaN</td>\n",
              "      <td>NaN</td>\n",
              "      <td>NaN</td>\n",
              "      <td>NaN</td>\n",
              "      <td>NaN</td>\n",
              "      <td>NaN</td>\n",
              "      <td>NaN</td>\n",
              "      <td>NaN</td>\n",
              "      <td>NaN</td>\n",
              "      <td>182.0</td>\n",
              "      <td>9807.0</td>\n",
              "      <td>38968.0</td>\n",
              "      <td>66.00</td>\n",
              "      <td>83.97</td>\n",
              "    </tr>\n",
              "    <tr>\n",
              "      <th>661</th>\n",
              "      <td>NaN</td>\n",
              "      <td>NaN</td>\n",
              "      <td>NaN</td>\n",
              "      <td>NaN</td>\n",
              "      <td>NaN</td>\n",
              "      <td>NaN</td>\n",
              "      <td>NaN</td>\n",
              "      <td>NaN</td>\n",
              "      <td>NaN</td>\n",
              "      <td>NaN</td>\n",
              "      <td>NaN</td>\n",
              "      <td>NaN</td>\n",
              "      <td>NaN</td>\n",
              "      <td>NaN</td>\n",
              "      <td>4136.0</td>\n",
              "      <td>6223.0</td>\n",
              "      <td>36239.0</td>\n",
              "      <td>65.00</td>\n",
              "      <td>77.62</td>\n",
              "    </tr>\n",
              "    <tr>\n",
              "      <th>2528</th>\n",
              "      <td>NaN</td>\n",
              "      <td>NaN</td>\n",
              "      <td>NaN</td>\n",
              "      <td>NaN</td>\n",
              "      <td>NaN</td>\n",
              "      <td>NaN</td>\n",
              "      <td>NaN</td>\n",
              "      <td>NaN</td>\n",
              "      <td>NaN</td>\n",
              "      <td>NaN</td>\n",
              "      <td>NaN</td>\n",
              "      <td>NaN</td>\n",
              "      <td>NaN</td>\n",
              "      <td>NaN</td>\n",
              "      <td>952.0</td>\n",
              "      <td>3377.0</td>\n",
              "      <td>31001.0</td>\n",
              "      <td>56.54</td>\n",
              "      <td>67.55</td>\n",
              "    </tr>\n",
              "    <tr>\n",
              "      <th>2708</th>\n",
              "      <td>NaN</td>\n",
              "      <td>NaN</td>\n",
              "      <td>NaN</td>\n",
              "      <td>NaN</td>\n",
              "      <td>NaN</td>\n",
              "      <td>NaN</td>\n",
              "      <td>NaN</td>\n",
              "      <td>NaN</td>\n",
              "      <td>NaN</td>\n",
              "      <td>NaN</td>\n",
              "      <td>NaN</td>\n",
              "      <td>NaN</td>\n",
              "      <td>NaN</td>\n",
              "      <td>NaN</td>\n",
              "      <td>327.0</td>\n",
              "      <td>1058.0</td>\n",
              "      <td>31421.0</td>\n",
              "      <td>69.49</td>\n",
              "      <td>82.57</td>\n",
              "    </tr>\n",
              "    <tr>\n",
              "      <th>3968</th>\n",
              "      <td>NaN</td>\n",
              "      <td>NaN</td>\n",
              "      <td>NaN</td>\n",
              "      <td>NaN</td>\n",
              "      <td>NaN</td>\n",
              "      <td>NaN</td>\n",
              "      <td>NaN</td>\n",
              "      <td>NaN</td>\n",
              "      <td>NaN</td>\n",
              "      <td>NaN</td>\n",
              "      <td>NaN</td>\n",
              "      <td>NaN</td>\n",
              "      <td>NaN</td>\n",
              "      <td>NaN</td>\n",
              "      <td>1552.0</td>\n",
              "      <td>2718.0</td>\n",
              "      <td>29899.0</td>\n",
              "      <td>62.48</td>\n",
              "      <td>73.82</td>\n",
              "    </tr>\n",
              "    <tr>\n",
              "      <th>6586</th>\n",
              "      <td>NaN</td>\n",
              "      <td>NaN</td>\n",
              "      <td>NaN</td>\n",
              "      <td>NaN</td>\n",
              "      <td>NaN</td>\n",
              "      <td>NaN</td>\n",
              "      <td>NaN</td>\n",
              "      <td>NaN</td>\n",
              "      <td>NaN</td>\n",
              "      <td>NaN</td>\n",
              "      <td>NaN</td>\n",
              "      <td>NaN</td>\n",
              "      <td>NaN</td>\n",
              "      <td>NaN</td>\n",
              "      <td>2513.0</td>\n",
              "      <td>3690.0</td>\n",
              "      <td>38921.0</td>\n",
              "      <td>70.09</td>\n",
              "      <td>70.49</td>\n",
              "    </tr>\n",
              "    <tr>\n",
              "      <th>8049</th>\n",
              "      <td>NaN</td>\n",
              "      <td>NaN</td>\n",
              "      <td>NaN</td>\n",
              "      <td>NaN</td>\n",
              "      <td>NaN</td>\n",
              "      <td>NaN</td>\n",
              "      <td>NaN</td>\n",
              "      <td>NaN</td>\n",
              "      <td>NaN</td>\n",
              "      <td>NaN</td>\n",
              "      <td>NaN</td>\n",
              "      <td>NaN</td>\n",
              "      <td>NaN</td>\n",
              "      <td>NaN</td>\n",
              "      <td>684.0</td>\n",
              "      <td>1510.0</td>\n",
              "      <td>37413.0</td>\n",
              "      <td>75.71</td>\n",
              "      <td>80.44</td>\n",
              "    </tr>\n",
              "    <tr>\n",
              "      <th>11236</th>\n",
              "      <td>220.0</td>\n",
              "      <td>0.0</td>\n",
              "      <td>3390.0</td>\n",
              "      <td>1242.0</td>\n",
              "      <td>243.0</td>\n",
              "      <td>2270.0</td>\n",
              "      <td>1622.0</td>\n",
              "      <td>4515.0</td>\n",
              "      <td>7097.0</td>\n",
              "      <td>53.0</td>\n",
              "      <td>69.0</td>\n",
              "      <td>150.0</td>\n",
              "      <td>NaN</td>\n",
              "      <td>8596.0</td>\n",
              "      <td>70.0</td>\n",
              "      <td>8557.0</td>\n",
              "      <td>23514.0</td>\n",
              "      <td>18.69</td>\n",
              "      <td>25.14</td>\n",
              "    </tr>\n",
              "    <tr>\n",
              "      <th>12672</th>\n",
              "      <td>356.0</td>\n",
              "      <td>595.0</td>\n",
              "      <td>5719.0</td>\n",
              "      <td>6165.0</td>\n",
              "      <td>274.0</td>\n",
              "      <td>382.0</td>\n",
              "      <td>NaN</td>\n",
              "      <td>1325.0</td>\n",
              "      <td>5056.0</td>\n",
              "      <td>56.0</td>\n",
              "      <td>86.0</td>\n",
              "      <td>30.0</td>\n",
              "      <td>291.0</td>\n",
              "      <td>2019.0</td>\n",
              "      <td>9.0</td>\n",
              "      <td>2064.0</td>\n",
              "      <td>24715.0</td>\n",
              "      <td>60.23</td>\n",
              "      <td>48.72</td>\n",
              "    </tr>\n",
              "    <tr>\n",
              "      <th>13341</th>\n",
              "      <td>NaN</td>\n",
              "      <td>NaN</td>\n",
              "      <td>NaN</td>\n",
              "      <td>NaN</td>\n",
              "      <td>NaN</td>\n",
              "      <td>NaN</td>\n",
              "      <td>NaN</td>\n",
              "      <td>NaN</td>\n",
              "      <td>6923.0</td>\n",
              "      <td>NaN</td>\n",
              "      <td>NaN</td>\n",
              "      <td>NaN</td>\n",
              "      <td>NaN</td>\n",
              "      <td>NaN</td>\n",
              "      <td>499.0</td>\n",
              "      <td>4914.0</td>\n",
              "      <td>34985.0</td>\n",
              "      <td>45.72</td>\n",
              "      <td>51.72</td>\n",
              "    </tr>\n",
              "    <tr>\n",
              "      <th>13391</th>\n",
              "      <td>346.0</td>\n",
              "      <td>595.0</td>\n",
              "      <td>5951.0</td>\n",
              "      <td>6131.0</td>\n",
              "      <td>NaN</td>\n",
              "      <td>494.0</td>\n",
              "      <td>709.0</td>\n",
              "      <td>1215.0</td>\n",
              "      <td>5058.0</td>\n",
              "      <td>49.0</td>\n",
              "      <td>83.0</td>\n",
              "      <td>31.0</td>\n",
              "      <td>309.0</td>\n",
              "      <td>2031.0</td>\n",
              "      <td>10.0</td>\n",
              "      <td>2050.0</td>\n",
              "      <td>25313.0</td>\n",
              "      <td>64.99</td>\n",
              "      <td>47.49</td>\n",
              "    </tr>\n",
              "    <tr>\n",
              "      <th>15982</th>\n",
              "      <td>351.0</td>\n",
              "      <td>554.0</td>\n",
              "      <td>7176.0</td>\n",
              "      <td>5690.0</td>\n",
              "      <td>321.0</td>\n",
              "      <td>NaN</td>\n",
              "      <td>417.0</td>\n",
              "      <td>1295.0</td>\n",
              "      <td>6967.0</td>\n",
              "      <td>58.0</td>\n",
              "      <td>91.0</td>\n",
              "      <td>70.0</td>\n",
              "      <td>299.0</td>\n",
              "      <td>3193.0</td>\n",
              "      <td>46.0</td>\n",
              "      <td>3143.0</td>\n",
              "      <td>26423.0</td>\n",
              "      <td>55.70</td>\n",
              "      <td>62.84</td>\n",
              "    </tr>\n",
              "    <tr>\n",
              "      <th>16612</th>\n",
              "      <td>NaN</td>\n",
              "      <td>900.0</td>\n",
              "      <td>4838.0</td>\n",
              "      <td>4547.0</td>\n",
              "      <td>269.0</td>\n",
              "      <td>1413.0</td>\n",
              "      <td>795.0</td>\n",
              "      <td>435.0</td>\n",
              "      <td>5040.0</td>\n",
              "      <td>60.0</td>\n",
              "      <td>85.0</td>\n",
              "      <td>15.0</td>\n",
              "      <td>227.0</td>\n",
              "      <td>4598.0</td>\n",
              "      <td>3.0</td>\n",
              "      <td>4566.0</td>\n",
              "      <td>23469.0</td>\n",
              "      <td>43.19</td>\n",
              "      <td>49.11</td>\n",
              "    </tr>\n",
              "    <tr>\n",
              "      <th>30896</th>\n",
              "      <td>NaN</td>\n",
              "      <td>NaN</td>\n",
              "      <td>NaN</td>\n",
              "      <td>NaN</td>\n",
              "      <td>NaN</td>\n",
              "      <td>NaN</td>\n",
              "      <td>NaN</td>\n",
              "      <td>NaN</td>\n",
              "      <td>NaN</td>\n",
              "      <td>NaN</td>\n",
              "      <td>NaN</td>\n",
              "      <td>NaN</td>\n",
              "      <td>NaN</td>\n",
              "      <td>NaN</td>\n",
              "      <td>849.0</td>\n",
              "      <td>9956.0</td>\n",
              "      <td>33938.0</td>\n",
              "      <td>63.01</td>\n",
              "      <td>69.79</td>\n",
              "    </tr>\n",
              "  </tbody>\n",
              "</table>\n",
              "</div>"
            ],
            "text/plain": [
              "       generation biomass  ...  price actual\n",
              "99                    NaN  ...         59.68\n",
              "108                   NaN  ...         79.14\n",
              "109                   NaN  ...         73.95\n",
              "110                   NaN  ...         71.93\n",
              "111                   NaN  ...         71.50\n",
              "112                   NaN  ...         71.85\n",
              "113                   NaN  ...         80.53\n",
              "451                   NaN  ...         88.95\n",
              "452                   NaN  ...         87.94\n",
              "643                   NaN  ...         83.97\n",
              "661                   NaN  ...         77.62\n",
              "2528                  NaN  ...         67.55\n",
              "2708                  NaN  ...         82.57\n",
              "3968                  NaN  ...         73.82\n",
              "6586                  NaN  ...         70.49\n",
              "8049                  NaN  ...         80.44\n",
              "11236               220.0  ...         25.14\n",
              "12672               356.0  ...         48.72\n",
              "13341                 NaN  ...         51.72\n",
              "13391               346.0  ...         47.49\n",
              "15982               351.0  ...         62.84\n",
              "16612                 NaN  ...         49.11\n",
              "30896                 NaN  ...         69.79\n",
              "\n",
              "[23 rows x 19 columns]"
            ]
          },
          "metadata": {},
          "execution_count": 17
        }
      ]
    },
    {
      "cell_type": "markdown",
      "metadata": {
        "id": "dQ4cGFs8N2KA"
      },
      "source": [
        "Notes:    \n",
        "\n",
        "- threshold of 14 would be sufficient to clean the majority of the dataset"
      ]
    },
    {
      "cell_type": "code",
      "metadata": {
        "colab": {
          "base_uri": "https://localhost:8080/",
          "height": 295
        },
        "id": "U2gZXglZN1av",
        "outputId": "937b9115-6b43-4653-f8c9-4f3fd7442230"
      },
      "source": [
        "#shows all rows with nan values after a thresh of 14\n",
        "energy.dropna(thresh =14, axis = 0)[energy.dropna(thresh =14, axis = 0).isna().any(axis=1)]"
      ],
      "execution_count": 18,
      "outputs": [
        {
          "output_type": "execute_result",
          "data": {
            "text/html": [
              "<div>\n",
              "<style scoped>\n",
              "    .dataframe tbody tr th:only-of-type {\n",
              "        vertical-align: middle;\n",
              "    }\n",
              "\n",
              "    .dataframe tbody tr th {\n",
              "        vertical-align: top;\n",
              "    }\n",
              "\n",
              "    .dataframe thead th {\n",
              "        text-align: right;\n",
              "    }\n",
              "</style>\n",
              "<table border=\"1\" class=\"dataframe\">\n",
              "  <thead>\n",
              "    <tr style=\"text-align: right;\">\n",
              "      <th></th>\n",
              "      <th>generation biomass</th>\n",
              "      <th>generation fossil brown coal/lignite</th>\n",
              "      <th>generation fossil gas</th>\n",
              "      <th>generation fossil hard coal</th>\n",
              "      <th>generation fossil oil</th>\n",
              "      <th>generation hydro pumped storage consumption</th>\n",
              "      <th>generation hydro run-of-river and poundage</th>\n",
              "      <th>generation hydro water reservoir</th>\n",
              "      <th>generation nuclear</th>\n",
              "      <th>generation other</th>\n",
              "      <th>generation other renewable</th>\n",
              "      <th>generation solar</th>\n",
              "      <th>generation waste</th>\n",
              "      <th>generation wind onshore</th>\n",
              "      <th>forecast solar day ahead</th>\n",
              "      <th>forecast wind onshore day ahead</th>\n",
              "      <th>total load forecast</th>\n",
              "      <th>price day ahead</th>\n",
              "      <th>price actual</th>\n",
              "    </tr>\n",
              "  </thead>\n",
              "  <tbody>\n",
              "    <tr>\n",
              "      <th>11236</th>\n",
              "      <td>220.0</td>\n",
              "      <td>0.0</td>\n",
              "      <td>3390.0</td>\n",
              "      <td>1242.0</td>\n",
              "      <td>243.0</td>\n",
              "      <td>2270.0</td>\n",
              "      <td>1622.0</td>\n",
              "      <td>4515.0</td>\n",
              "      <td>7097.0</td>\n",
              "      <td>53.0</td>\n",
              "      <td>69.0</td>\n",
              "      <td>150.0</td>\n",
              "      <td>NaN</td>\n",
              "      <td>8596.0</td>\n",
              "      <td>70.0</td>\n",
              "      <td>8557.0</td>\n",
              "      <td>23514.0</td>\n",
              "      <td>18.69</td>\n",
              "      <td>25.14</td>\n",
              "    </tr>\n",
              "    <tr>\n",
              "      <th>12672</th>\n",
              "      <td>356.0</td>\n",
              "      <td>595.0</td>\n",
              "      <td>5719.0</td>\n",
              "      <td>6165.0</td>\n",
              "      <td>274.0</td>\n",
              "      <td>382.0</td>\n",
              "      <td>NaN</td>\n",
              "      <td>1325.0</td>\n",
              "      <td>5056.0</td>\n",
              "      <td>56.0</td>\n",
              "      <td>86.0</td>\n",
              "      <td>30.0</td>\n",
              "      <td>291.0</td>\n",
              "      <td>2019.0</td>\n",
              "      <td>9.0</td>\n",
              "      <td>2064.0</td>\n",
              "      <td>24715.0</td>\n",
              "      <td>60.23</td>\n",
              "      <td>48.72</td>\n",
              "    </tr>\n",
              "    <tr>\n",
              "      <th>13391</th>\n",
              "      <td>346.0</td>\n",
              "      <td>595.0</td>\n",
              "      <td>5951.0</td>\n",
              "      <td>6131.0</td>\n",
              "      <td>NaN</td>\n",
              "      <td>494.0</td>\n",
              "      <td>709.0</td>\n",
              "      <td>1215.0</td>\n",
              "      <td>5058.0</td>\n",
              "      <td>49.0</td>\n",
              "      <td>83.0</td>\n",
              "      <td>31.0</td>\n",
              "      <td>309.0</td>\n",
              "      <td>2031.0</td>\n",
              "      <td>10.0</td>\n",
              "      <td>2050.0</td>\n",
              "      <td>25313.0</td>\n",
              "      <td>64.99</td>\n",
              "      <td>47.49</td>\n",
              "    </tr>\n",
              "    <tr>\n",
              "      <th>15982</th>\n",
              "      <td>351.0</td>\n",
              "      <td>554.0</td>\n",
              "      <td>7176.0</td>\n",
              "      <td>5690.0</td>\n",
              "      <td>321.0</td>\n",
              "      <td>NaN</td>\n",
              "      <td>417.0</td>\n",
              "      <td>1295.0</td>\n",
              "      <td>6967.0</td>\n",
              "      <td>58.0</td>\n",
              "      <td>91.0</td>\n",
              "      <td>70.0</td>\n",
              "      <td>299.0</td>\n",
              "      <td>3193.0</td>\n",
              "      <td>46.0</td>\n",
              "      <td>3143.0</td>\n",
              "      <td>26423.0</td>\n",
              "      <td>55.70</td>\n",
              "      <td>62.84</td>\n",
              "    </tr>\n",
              "    <tr>\n",
              "      <th>16612</th>\n",
              "      <td>NaN</td>\n",
              "      <td>900.0</td>\n",
              "      <td>4838.0</td>\n",
              "      <td>4547.0</td>\n",
              "      <td>269.0</td>\n",
              "      <td>1413.0</td>\n",
              "      <td>795.0</td>\n",
              "      <td>435.0</td>\n",
              "      <td>5040.0</td>\n",
              "      <td>60.0</td>\n",
              "      <td>85.0</td>\n",
              "      <td>15.0</td>\n",
              "      <td>227.0</td>\n",
              "      <td>4598.0</td>\n",
              "      <td>3.0</td>\n",
              "      <td>4566.0</td>\n",
              "      <td>23469.0</td>\n",
              "      <td>43.19</td>\n",
              "      <td>49.11</td>\n",
              "    </tr>\n",
              "  </tbody>\n",
              "</table>\n",
              "</div>"
            ],
            "text/plain": [
              "       generation biomass  ...  price actual\n",
              "11236               220.0  ...         25.14\n",
              "12672               356.0  ...         48.72\n",
              "13391               346.0  ...         47.49\n",
              "15982               351.0  ...         62.84\n",
              "16612                 NaN  ...         49.11\n",
              "\n",
              "[5 rows x 19 columns]"
            ]
          },
          "metadata": {},
          "execution_count": 18
        }
      ]
    },
    {
      "cell_type": "markdown",
      "metadata": {
        "id": "jeHCBemeOo6a"
      },
      "source": [
        "Notes:    \n",
        "\n",
        "- There wouldn't be too much data loss if we removed these rows."
      ]
    },
    {
      "cell_type": "code",
      "metadata": {
        "colab": {
          "base_uri": "https://localhost:8080/"
        },
        "id": "UMBxEt707m08",
        "outputId": "6b048807-1af7-4b88-dc1e-216623da86fa"
      },
      "source": [
        "#These rows with na values more than 19 will be removed.\n",
        "energy.dropna(thresh =19, axis = 0).isnull().sum()"
      ],
      "execution_count": 19,
      "outputs": [
        {
          "output_type": "execute_result",
          "data": {
            "text/plain": [
              "generation biomass                             0\n",
              "generation fossil brown coal/lignite           0\n",
              "generation fossil gas                          0\n",
              "generation fossil hard coal                    0\n",
              "generation fossil oil                          0\n",
              "generation hydro pumped storage consumption    0\n",
              "generation hydro run-of-river and poundage     0\n",
              "generation hydro water reservoir               0\n",
              "generation nuclear                             0\n",
              "generation other                               0\n",
              "generation other renewable                     0\n",
              "generation solar                               0\n",
              "generation waste                               0\n",
              "generation wind onshore                        0\n",
              "forecast solar day ahead                       0\n",
              "forecast wind onshore day ahead                0\n",
              "total load forecast                            0\n",
              "price day ahead                                0\n",
              "price actual                                   0\n",
              "dtype: int64"
            ]
          },
          "metadata": {},
          "execution_count": 19
        }
      ]
    },
    {
      "cell_type": "code",
      "metadata": {
        "colab": {
          "base_uri": "https://localhost:8080/"
        },
        "id": "7_6k80eu6LjU",
        "outputId": "e300e415-6b10-4acc-8b57-525d6c737ec5"
      },
      "source": [
        "#show number remaining after shape\n",
        "energy.dropna(thresh =19, axis = 0).shape"
      ],
      "execution_count": 20,
      "outputs": [
        {
          "output_type": "execute_result",
          "data": {
            "text/plain": [
              "(35041, 19)"
            ]
          },
          "metadata": {},
          "execution_count": 20
        }
      ]
    },
    {
      "cell_type": "code",
      "metadata": {
        "id": "rgxq-y-1f8fw"
      },
      "source": [
        "#confirm dropping the rows and columns\n",
        "energy.dropna(thresh =19, axis = 0, inplace = True)"
      ],
      "execution_count": 21,
      "outputs": []
    },
    {
      "cell_type": "markdown",
      "metadata": {
        "id": "onlHKpdveSjl"
      },
      "source": [
        "Notes:     \n",
        "\n",
        "- After dropping certain columns and cleaning up rows, the shape shows that we still have a significant amount of data to work with."
      ]
    },
    {
      "cell_type": "markdown",
      "metadata": {
        "id": "-Vs5oOs8yZEI"
      },
      "source": [
        "# Modeling and Machine Learning"
      ]
    },
    {
      "cell_type": "markdown",
      "metadata": {
        "id": "K1jFrVFyykT7"
      },
      "source": [
        "###Split Features and Target Data"
      ]
    },
    {
      "cell_type": "code",
      "metadata": {
        "id": "JGWKkkTyyR9J"
      },
      "source": [
        "#define X and y\n",
        "\n",
        "#feature matrix\n",
        "X_defined = energy.drop(columns= ['price actual'])\n",
        "\n",
        "#target variable\n",
        "y_defined = energy['price actual']"
      ],
      "execution_count": 22,
      "outputs": []
    },
    {
      "cell_type": "markdown",
      "metadata": {
        "id": "C6F8rqrAzRac"
      },
      "source": [
        "### Normalize the feature matrix using Standard Scaler and split train test data"
      ]
    },
    {
      "cell_type": "code",
      "metadata": {
        "id": "Fqc-G5kMzHnh"
      },
      "source": [
        "#normalize data\n",
        "X = StandardScaler().fit_transform(X_defined)"
      ],
      "execution_count": 23,
      "outputs": []
    },
    {
      "cell_type": "code",
      "metadata": {
        "id": "Y_i3Jo7-zqu2"
      },
      "source": [
        "#split train test data\n",
        "X_train, X_test, y_train, y_test = train_test_split(X_defined, y_defined, test_size=0.3, random_state=10)"
      ],
      "execution_count": 24,
      "outputs": []
    },
    {
      "cell_type": "markdown",
      "metadata": {
        "id": "Fpkcutv61goL"
      },
      "source": [
        "### Train on Linear Regression Model"
      ]
    },
    {
      "cell_type": "code",
      "metadata": {
        "id": "j-qtjf0sEp_f"
      },
      "source": [
        "#build linear model classifier\n",
        "lr_model = LinearRegression()\n",
        "\n",
        "#fit the data\n",
        "lr_model.fit(X_train,y_train)\n",
        "\n",
        "#make prediction using X_test data\n",
        "lr_y_pred = lr_model.predict(X_test)"
      ],
      "execution_count": 25,
      "outputs": []
    },
    {
      "cell_type": "markdown",
      "metadata": {
        "id": "c5XWVY1uASBm"
      },
      "source": [
        "### Residuals"
      ]
    },
    {
      "cell_type": "code",
      "metadata": {
        "id": "NbHmWwDr4F4C"
      },
      "source": [
        "#create dataframe or results of preddicted, actual, and the residual error\n",
        "energy_result_df = pd.DataFrame({\n",
        "    'Predicted': lr_y_pred,\n",
        "    'Actual': y_test,\n",
        "    'Residual': y_test - lr_y_pred})"
      ],
      "execution_count": 26,
      "outputs": []
    },
    {
      "cell_type": "code",
      "metadata": {
        "colab": {
          "base_uri": "https://localhost:8080/",
          "height": 476
        },
        "id": "XcO7IGQpAh6H",
        "outputId": "656331be-3e99-4337-ccf2-71b296a4f43b"
      },
      "source": [
        "plt.figure(figsize=[15,7])\n",
        "plt.scatter(energy_result_df.Predicted, energy_result_df.Residual, color = 'b', s = 25, marker = '+')\n",
        "plt.title('Residuals for Regression Model')\n",
        "plt.xlabel('Predicted Value \"price actual\"')\n",
        "plt.ylabel('Residuals')\n",
        "plt.axhline(y = 0, color = 'r', ls= '--')"
      ],
      "execution_count": 27,
      "outputs": [
        {
          "output_type": "execute_result",
          "data": {
            "text/plain": [
              "<matplotlib.lines.Line2D at 0x7f3fc28f0890>"
            ]
          },
          "metadata": {},
          "execution_count": 27
        },
        {
          "output_type": "display_data",
          "data": {
            "image/png": "[encoded data removed]",
            "text/plain": [
              "<Figure size 1080x504 with 1 Axes>"
            ]
          },
          "metadata": {
            "needs_background": "light"
          }
        }
      ]
    },
    {
      "cell_type": "markdown",
      "metadata": {
        "id": "N1EHQmZCe9r_"
      },
      "source": [
        "Notes:     \n",
        "\n",
        "- Most of the residuals lie between 40 and 80 of the predicted value.\n",
        "- due to the shape of the model, this indicates that there isn't really any form of trending pattern in the algorithm. Linear regression is most likely not a good fit to predict the independent variable. "
      ]
    },
    {
      "cell_type": "markdown",
      "metadata": {
        "id": "tcCggVCYHwOg"
      },
      "source": [
        "### GridSearch"
      ]
    },
    {
      "cell_type": "code",
      "metadata": {
        "id": "aYywgnbOHrfC"
      },
      "source": [
        "#gridsearch Hyper Parameters \n",
        "lr_parameter_space = {\n",
        "    'fit_intercept': [True, False],\n",
        "    'normalize': [True, False],\n",
        "    'positive' : [True, False],\n",
        "    'n_jobs' : [-1,1]\n",
        "}"
      ],
      "execution_count": 28,
      "outputs": []
    },
    {
      "cell_type": "code",
      "metadata": {
        "id": "p38rO_28HrfS"
      },
      "source": [
        "#gridsearch object\n",
        "clf_lr = GridSearchCV(lr_model, lr_parameter_space)\n",
        "\n",
        "#fit the data\n",
        "clf_lr.fit(X_train,y_train)\n",
        "\n",
        "#make prediction using X_test data\n",
        "clf_lr_y_pred = clf_lr.predict(X_test)"
      ],
      "execution_count": 29,
      "outputs": []
    },
    {
      "cell_type": "markdown",
      "metadata": {
        "id": "8ScURVrqCh7G"
      },
      "source": [
        "### Feature Selection"
      ]
    },
    {
      "cell_type": "code",
      "metadata": {
        "id": "tk8tP4XGCgrJ",
        "colab": {
          "base_uri": "https://localhost:8080/"
        },
        "outputId": "3ce08de5-88c5-4699-f992-77bb67bb31c4"
      },
      "source": [
        "### Feature Selection\n",
        "#construct RFE, model select top 6\n",
        "rfe = RFE(lr_model,n_features_to_select = 6)\n",
        "#fit the RFE model\n",
        "rfe.fit(X_train,y_train)"
      ],
      "execution_count": 30,
      "outputs": [
        {
          "output_type": "execute_result",
          "data": {
            "text/plain": [
              "RFE(estimator=LinearRegression(), n_features_to_select=6)"
            ]
          },
          "metadata": {},
          "execution_count": 30
        }
      ]
    },
    {
      "cell_type": "code",
      "metadata": {
        "colab": {
          "base_uri": "https://localhost:8080/"
        },
        "id": "lY6l1NY9L4An",
        "outputId": "d0910bfc-71b9-434f-8802-8452da20b440"
      },
      "source": [
        "#tells us what column was selected .. (first column is not selected)\n",
        "rfe.support_"
      ],
      "execution_count": 31,
      "outputs": [
        {
          "output_type": "execute_result",
          "data": {
            "text/plain": [
              "array([False, False, False, False,  True, False,  True, False, False,\n",
              "        True,  True, False,  True, False, False, False, False,  True])"
            ]
          },
          "metadata": {},
          "execution_count": 31
        }
      ]
    },
    {
      "cell_type": "code",
      "metadata": {
        "colab": {
          "base_uri": "https://localhost:8080/",
          "height": 237
        },
        "id": "ovHbCG3VL6kD",
        "outputId": "27d65a24-ef46-4ec3-e173-9adf6ee95ab9"
      },
      "source": [
        "#visualize the columns with all columns\n",
        "selected = pd.DataFrame(data= rfe.support_, index = X_defined.columns)\n",
        "\n",
        "#shows only RFE True Selection\n",
        "selected[selected[0]==True]"
      ],
      "execution_count": 32,
      "outputs": [
        {
          "output_type": "execute_result",
          "data": {
            "text/html": [
              "<div>\n",
              "<style scoped>\n",
              "    .dataframe tbody tr th:only-of-type {\n",
              "        vertical-align: middle;\n",
              "    }\n",
              "\n",
              "    .dataframe tbody tr th {\n",
              "        vertical-align: top;\n",
              "    }\n",
              "\n",
              "    .dataframe thead th {\n",
              "        text-align: right;\n",
              "    }\n",
              "</style>\n",
              "<table border=\"1\" class=\"dataframe\">\n",
              "  <thead>\n",
              "    <tr style=\"text-align: right;\">\n",
              "      <th></th>\n",
              "      <th>0</th>\n",
              "    </tr>\n",
              "  </thead>\n",
              "  <tbody>\n",
              "    <tr>\n",
              "      <th>generation fossil oil</th>\n",
              "      <td>True</td>\n",
              "    </tr>\n",
              "    <tr>\n",
              "      <th>generation hydro run-of-river and poundage</th>\n",
              "      <td>True</td>\n",
              "    </tr>\n",
              "    <tr>\n",
              "      <th>generation other</th>\n",
              "      <td>True</td>\n",
              "    </tr>\n",
              "    <tr>\n",
              "      <th>generation other renewable</th>\n",
              "      <td>True</td>\n",
              "    </tr>\n",
              "    <tr>\n",
              "      <th>generation waste</th>\n",
              "      <td>True</td>\n",
              "    </tr>\n",
              "    <tr>\n",
              "      <th>price day ahead</th>\n",
              "      <td>True</td>\n",
              "    </tr>\n",
              "  </tbody>\n",
              "</table>\n",
              "</div>"
            ],
            "text/plain": [
              "                                               0\n",
              "generation fossil oil                       True\n",
              "generation hydro run-of-river and poundage  True\n",
              "generation other                            True\n",
              "generation other renewable                  True\n",
              "generation waste                            True\n",
              "price day ahead                             True"
            ]
          },
          "metadata": {},
          "execution_count": 32
        }
      ]
    },
    {
      "cell_type": "code",
      "metadata": {
        "colab": {
          "base_uri": "https://localhost:8080/"
        },
        "id": "ZZtV32kAWxBA",
        "outputId": "ef6e87f7-8902-4f28-c82a-b5fb1ec28904"
      },
      "source": [
        "#shows the top 6 most correlated to price actual\n",
        "corr.nlargest(6, 'price actual')['price actual']"
      ],
      "execution_count": 33,
      "outputs": [
        {
          "output_type": "execute_result",
          "data": {
            "text/plain": [
              "price actual                            1.000000\n",
              "price day ahead                         0.732155\n",
              "generation fossil hard coal             0.465641\n",
              "generation fossil gas                   0.461706\n",
              "total load forecast                     0.435864\n",
              "generation fossil brown coal/lignite    0.364088\n",
              "Name: price actual, dtype: float64"
            ]
          },
          "metadata": {},
          "execution_count": 33
        }
      ]
    },
    {
      "cell_type": "markdown",
      "metadata": {
        "id": "-h0xRjUAYSZS"
      },
      "source": [
        "Notes: \n",
        "\n",
        "- Compared to the correlation, only Price Day Ahead was selected in RFE selection"
      ]
    },
    {
      "cell_type": "code",
      "metadata": {
        "colab": {
          "base_uri": "https://localhost:8080/"
        },
        "id": "kjjgRNsyL90V",
        "outputId": "a0c70757-2dec-4d65-d388-90aeedcc3992"
      },
      "source": [
        "#selects only the columns that are true\n",
        "X_defined.columns[rfe.support_]"
      ],
      "execution_count": 34,
      "outputs": [
        {
          "output_type": "execute_result",
          "data": {
            "text/plain": [
              "Index(['generation fossil oil', 'generation hydro run-of-river and poundage',\n",
              "       'generation other', 'generation other renewable', 'generation waste',\n",
              "       'price day ahead'],\n",
              "      dtype='object')"
            ]
          },
          "metadata": {},
          "execution_count": 34
        }
      ]
    },
    {
      "cell_type": "code",
      "metadata": {
        "colab": {
          "base_uri": "https://localhost:8080/",
          "height": 295
        },
        "id": "ZqL9dMPFNZb5",
        "outputId": "37e531bc-e748-4373-e4c2-b705556deff2"
      },
      "source": [
        "#original X_test col\n",
        "X_test.head()"
      ],
      "execution_count": 35,
      "outputs": [
        {
          "output_type": "execute_result",
          "data": {
            "text/html": [
              "<div>\n",
              "<style scoped>\n",
              "    .dataframe tbody tr th:only-of-type {\n",
              "        vertical-align: middle;\n",
              "    }\n",
              "\n",
              "    .dataframe tbody tr th {\n",
              "        vertical-align: top;\n",
              "    }\n",
              "\n",
              "    .dataframe thead th {\n",
              "        text-align: right;\n",
              "    }\n",
              "</style>\n",
              "<table border=\"1\" class=\"dataframe\">\n",
              "  <thead>\n",
              "    <tr style=\"text-align: right;\">\n",
              "      <th></th>\n",
              "      <th>generation biomass</th>\n",
              "      <th>generation fossil brown coal/lignite</th>\n",
              "      <th>generation fossil gas</th>\n",
              "      <th>generation fossil hard coal</th>\n",
              "      <th>generation fossil oil</th>\n",
              "      <th>generation hydro pumped storage consumption</th>\n",
              "      <th>generation hydro run-of-river and poundage</th>\n",
              "      <th>generation hydro water reservoir</th>\n",
              "      <th>generation nuclear</th>\n",
              "      <th>generation other</th>\n",
              "      <th>generation other renewable</th>\n",
              "      <th>generation solar</th>\n",
              "      <th>generation waste</th>\n",
              "      <th>generation wind onshore</th>\n",
              "      <th>forecast solar day ahead</th>\n",
              "      <th>forecast wind onshore day ahead</th>\n",
              "      <th>total load forecast</th>\n",
              "      <th>price day ahead</th>\n",
              "    </tr>\n",
              "  </thead>\n",
              "  <tbody>\n",
              "    <tr>\n",
              "      <th>28504</th>\n",
              "      <td>388.0</td>\n",
              "      <td>625.0</td>\n",
              "      <td>4635.0</td>\n",
              "      <td>4454.0</td>\n",
              "      <td>248.0</td>\n",
              "      <td>1.0</td>\n",
              "      <td>909.0</td>\n",
              "      <td>1730.0</td>\n",
              "      <td>7111.0</td>\n",
              "      <td>61.0</td>\n",
              "      <td>96.0</td>\n",
              "      <td>590.0</td>\n",
              "      <td>313.0</td>\n",
              "      <td>4978.0</td>\n",
              "      <td>546.0</td>\n",
              "      <td>5045.0</td>\n",
              "      <td>28623.0</td>\n",
              "      <td>54.10</td>\n",
              "    </tr>\n",
              "    <tr>\n",
              "      <th>13685</th>\n",
              "      <td>392.0</td>\n",
              "      <td>0.0</td>\n",
              "      <td>3812.0</td>\n",
              "      <td>2140.0</td>\n",
              "      <td>242.0</td>\n",
              "      <td>1678.0</td>\n",
              "      <td>668.0</td>\n",
              "      <td>653.0</td>\n",
              "      <td>7005.0</td>\n",
              "      <td>56.0</td>\n",
              "      <td>81.0</td>\n",
              "      <td>634.0</td>\n",
              "      <td>320.0</td>\n",
              "      <td>6404.0</td>\n",
              "      <td>481.0</td>\n",
              "      <td>6418.0</td>\n",
              "      <td>21508.0</td>\n",
              "      <td>30.69</td>\n",
              "    </tr>\n",
              "    <tr>\n",
              "      <th>32520</th>\n",
              "      <td>368.0</td>\n",
              "      <td>479.0</td>\n",
              "      <td>4332.0</td>\n",
              "      <td>4936.0</td>\n",
              "      <td>262.0</td>\n",
              "      <td>380.0</td>\n",
              "      <td>669.0</td>\n",
              "      <td>766.0</td>\n",
              "      <td>6988.0</td>\n",
              "      <td>57.0</td>\n",
              "      <td>83.0</td>\n",
              "      <td>164.0</td>\n",
              "      <td>324.0</td>\n",
              "      <td>3259.0</td>\n",
              "      <td>149.0</td>\n",
              "      <td>2911.0</td>\n",
              "      <td>23300.0</td>\n",
              "      <td>66.65</td>\n",
              "    </tr>\n",
              "    <tr>\n",
              "      <th>34705</th>\n",
              "      <td>294.0</td>\n",
              "      <td>188.0</td>\n",
              "      <td>4459.0</td>\n",
              "      <td>2518.0</td>\n",
              "      <td>212.0</td>\n",
              "      <td>503.0</td>\n",
              "      <td>1360.0</td>\n",
              "      <td>969.0</td>\n",
              "      <td>6102.0</td>\n",
              "      <td>57.0</td>\n",
              "      <td>81.0</td>\n",
              "      <td>14.0</td>\n",
              "      <td>289.0</td>\n",
              "      <td>9918.0</td>\n",
              "      <td>7.0</td>\n",
              "      <td>9473.0</td>\n",
              "      <td>23972.0</td>\n",
              "      <td>51.00</td>\n",
              "    </tr>\n",
              "    <tr>\n",
              "      <th>31108</th>\n",
              "      <td>387.0</td>\n",
              "      <td>664.0</td>\n",
              "      <td>4492.0</td>\n",
              "      <td>4088.0</td>\n",
              "      <td>284.0</td>\n",
              "      <td>503.0</td>\n",
              "      <td>1009.0</td>\n",
              "      <td>1195.0</td>\n",
              "      <td>6002.0</td>\n",
              "      <td>55.0</td>\n",
              "      <td>99.0</td>\n",
              "      <td>529.0</td>\n",
              "      <td>301.0</td>\n",
              "      <td>4323.0</td>\n",
              "      <td>432.0</td>\n",
              "      <td>4457.0</td>\n",
              "      <td>25343.0</td>\n",
              "      <td>56.85</td>\n",
              "    </tr>\n",
              "  </tbody>\n",
              "</table>\n",
              "</div>"
            ],
            "text/plain": [
              "       generation biomass  ...  price day ahead\n",
              "28504               388.0  ...            54.10\n",
              "13685               392.0  ...            30.69\n",
              "32520               368.0  ...            66.65\n",
              "34705               294.0  ...            51.00\n",
              "31108               387.0  ...            56.85\n",
              "\n",
              "[5 rows x 18 columns]"
            ]
          },
          "metadata": {},
          "execution_count": 35
        }
      ]
    },
    {
      "cell_type": "code",
      "metadata": {
        "colab": {
          "base_uri": "https://localhost:8080/",
          "height": 206
        },
        "id": "6URnFJMyMd8d",
        "outputId": "697689e3-182e-4d26-ed71-176742cdbd30"
      },
      "source": [
        "#updated X_test\n",
        "X_test = X_test[X_defined.columns[rfe.support_]]\n",
        "X_test.head()"
      ],
      "execution_count": 36,
      "outputs": [
        {
          "output_type": "execute_result",
          "data": {
            "text/html": [
              "<div>\n",
              "<style scoped>\n",
              "    .dataframe tbody tr th:only-of-type {\n",
              "        vertical-align: middle;\n",
              "    }\n",
              "\n",
              "    .dataframe tbody tr th {\n",
              "        vertical-align: top;\n",
              "    }\n",
              "\n",
              "    .dataframe thead th {\n",
              "        text-align: right;\n",
              "    }\n",
              "</style>\n",
              "<table border=\"1\" class=\"dataframe\">\n",
              "  <thead>\n",
              "    <tr style=\"text-align: right;\">\n",
              "      <th></th>\n",
              "      <th>generation fossil oil</th>\n",
              "      <th>generation hydro run-of-river and poundage</th>\n",
              "      <th>generation other</th>\n",
              "      <th>generation other renewable</th>\n",
              "      <th>generation waste</th>\n",
              "      <th>price day ahead</th>\n",
              "    </tr>\n",
              "  </thead>\n",
              "  <tbody>\n",
              "    <tr>\n",
              "      <th>28504</th>\n",
              "      <td>248.0</td>\n",
              "      <td>909.0</td>\n",
              "      <td>61.0</td>\n",
              "      <td>96.0</td>\n",
              "      <td>313.0</td>\n",
              "      <td>54.10</td>\n",
              "    </tr>\n",
              "    <tr>\n",
              "      <th>13685</th>\n",
              "      <td>242.0</td>\n",
              "      <td>668.0</td>\n",
              "      <td>56.0</td>\n",
              "      <td>81.0</td>\n",
              "      <td>320.0</td>\n",
              "      <td>30.69</td>\n",
              "    </tr>\n",
              "    <tr>\n",
              "      <th>32520</th>\n",
              "      <td>262.0</td>\n",
              "      <td>669.0</td>\n",
              "      <td>57.0</td>\n",
              "      <td>83.0</td>\n",
              "      <td>324.0</td>\n",
              "      <td>66.65</td>\n",
              "    </tr>\n",
              "    <tr>\n",
              "      <th>34705</th>\n",
              "      <td>212.0</td>\n",
              "      <td>1360.0</td>\n",
              "      <td>57.0</td>\n",
              "      <td>81.0</td>\n",
              "      <td>289.0</td>\n",
              "      <td>51.00</td>\n",
              "    </tr>\n",
              "    <tr>\n",
              "      <th>31108</th>\n",
              "      <td>284.0</td>\n",
              "      <td>1009.0</td>\n",
              "      <td>55.0</td>\n",
              "      <td>99.0</td>\n",
              "      <td>301.0</td>\n",
              "      <td>56.85</td>\n",
              "    </tr>\n",
              "  </tbody>\n",
              "</table>\n",
              "</div>"
            ],
            "text/plain": [
              "       generation fossil oil  ...  price day ahead\n",
              "28504                  248.0  ...            54.10\n",
              "13685                  242.0  ...            30.69\n",
              "32520                  262.0  ...            66.65\n",
              "34705                  212.0  ...            51.00\n",
              "31108                  284.0  ...            56.85\n",
              "\n",
              "[5 rows x 6 columns]"
            ]
          },
          "metadata": {},
          "execution_count": 36
        }
      ]
    },
    {
      "cell_type": "code",
      "metadata": {
        "colab": {
          "base_uri": "https://localhost:8080/",
          "height": 206
        },
        "id": "OU6PoU6gO1Us",
        "outputId": "9ec04c9f-8082-4b8e-d9c0-f2259d01e2ca"
      },
      "source": [
        "#updated X_train\n",
        "X_train = X_train[X_defined.columns[rfe.support_]]\n",
        "X_train.head()"
      ],
      "execution_count": 37,
      "outputs": [
        {
          "output_type": "execute_result",
          "data": {
            "text/html": [
              "<div>\n",
              "<style scoped>\n",
              "    .dataframe tbody tr th:only-of-type {\n",
              "        vertical-align: middle;\n",
              "    }\n",
              "\n",
              "    .dataframe tbody tr th {\n",
              "        vertical-align: top;\n",
              "    }\n",
              "\n",
              "    .dataframe thead th {\n",
              "        text-align: right;\n",
              "    }\n",
              "</style>\n",
              "<table border=\"1\" class=\"dataframe\">\n",
              "  <thead>\n",
              "    <tr style=\"text-align: right;\">\n",
              "      <th></th>\n",
              "      <th>generation fossil oil</th>\n",
              "      <th>generation hydro run-of-river and poundage</th>\n",
              "      <th>generation other</th>\n",
              "      <th>generation other renewable</th>\n",
              "      <th>generation waste</th>\n",
              "      <th>price day ahead</th>\n",
              "    </tr>\n",
              "  </thead>\n",
              "  <tbody>\n",
              "    <tr>\n",
              "      <th>3790</th>\n",
              "      <td>415.0</td>\n",
              "      <td>711.0</td>\n",
              "      <td>86.0</td>\n",
              "      <td>71.0</td>\n",
              "      <td>234.0</td>\n",
              "      <td>60.49</td>\n",
              "    </tr>\n",
              "    <tr>\n",
              "      <th>17131</th>\n",
              "      <td>320.0</td>\n",
              "      <td>712.0</td>\n",
              "      <td>56.0</td>\n",
              "      <td>106.0</td>\n",
              "      <td>289.0</td>\n",
              "      <td>73.87</td>\n",
              "    </tr>\n",
              "    <tr>\n",
              "      <th>25411</th>\n",
              "      <td>347.0</td>\n",
              "      <td>505.0</td>\n",
              "      <td>56.0</td>\n",
              "      <td>105.0</td>\n",
              "      <td>287.0</td>\n",
              "      <td>70.66</td>\n",
              "    </tr>\n",
              "    <tr>\n",
              "      <th>32931</th>\n",
              "      <td>284.0</td>\n",
              "      <td>1878.0</td>\n",
              "      <td>12.0</td>\n",
              "      <td>92.0</td>\n",
              "      <td>333.0</td>\n",
              "      <td>28.05</td>\n",
              "    </tr>\n",
              "    <tr>\n",
              "      <th>30556</th>\n",
              "      <td>287.0</td>\n",
              "      <td>1316.0</td>\n",
              "      <td>54.0</td>\n",
              "      <td>89.0</td>\n",
              "      <td>307.0</td>\n",
              "      <td>60.96</td>\n",
              "    </tr>\n",
              "  </tbody>\n",
              "</table>\n",
              "</div>"
            ],
            "text/plain": [
              "       generation fossil oil  ...  price day ahead\n",
              "3790                   415.0  ...            60.49\n",
              "17131                  320.0  ...            73.87\n",
              "25411                  347.0  ...            70.66\n",
              "32931                  284.0  ...            28.05\n",
              "30556                  287.0  ...            60.96\n",
              "\n",
              "[5 rows x 6 columns]"
            ]
          },
          "metadata": {},
          "execution_count": 37
        }
      ]
    },
    {
      "cell_type": "code",
      "metadata": {
        "id": "0FrAbm5YNfz1"
      },
      "source": [
        "#rebuld MLR model using the subset columns\n",
        "lr_model.fit(X_train, y_train)\n",
        "\n",
        "#make prediction using X_test data\n",
        "rfe_lr_y_pred = lr_model.predict(X_test)"
      ],
      "execution_count": 38,
      "outputs": []
    },
    {
      "cell_type": "markdown",
      "metadata": {
        "id": "FONOdG6LJBQM"
      },
      "source": [
        "# Accuracy Reports"
      ]
    },
    {
      "cell_type": "code",
      "metadata": {
        "id": "mewDzEzoCEvI",
        "colab": {
          "base_uri": "https://localhost:8080/"
        },
        "outputId": "c5420848-e7aa-4d7e-c9f9-cf2c4a580a4c"
      },
      "source": [
        "#explained variance no gridsearch\n",
        "print(\"R2: \", metrics.r2_score(y_test, lr_y_pred).round(2))                      #the higher the better\n",
        "print(\"MSE: \", metrics.mean_squared_error(y_test, lr_y_pred).round(2))           #the lower the better\n",
        "print(\"RMSE: \", np.sqrt(metrics.mean_squared_error(y_test, lr_y_pred)).round(2)) #lower the better\n"
      ],
      "execution_count": 39,
      "outputs": [
        {
          "output_type": "stream",
          "name": "stdout",
          "text": [
            "R2:  0.56\n",
            "MSE:  88.79\n",
            "RMSE:  9.42\n"
          ]
        }
      ]
    },
    {
      "cell_type": "code",
      "metadata": {
        "colab": {
          "base_uri": "https://localhost:8080/"
        },
        "id": "UsbheMGSI2We",
        "outputId": "f7baf77a-52ba-4ae4-b3b7-af9a3562b0c0"
      },
      "source": [
        "#explained variance with gridsearch\n",
        "print(\"R2: \", metrics.r2_score(y_test, clf_lr_y_pred).round(2))                      #the higher the better\n",
        "print(\"MSE: \", metrics.mean_squared_error(y_test, clf_lr_y_pred).round(2))           #the lower the better\n",
        "print(\"RMSE: \", np.sqrt(metrics.mean_squared_error(y_test, clf_lr_y_pred)).round(2)) #lower the better"
      ],
      "execution_count": 40,
      "outputs": [
        {
          "output_type": "stream",
          "name": "stdout",
          "text": [
            "R2:  0.56\n",
            "MSE:  88.79\n",
            "RMSE:  9.42\n"
          ]
        }
      ]
    },
    {
      "cell_type": "code",
      "metadata": {
        "colab": {
          "base_uri": "https://localhost:8080/"
        },
        "id": "lpI84eFmPJU_",
        "outputId": "6e17d304-45f7-4d39-db72-8f20483d1610"
      },
      "source": [
        "#explained variance with RFE Feature Selection\n",
        "print(\"R2: \", metrics.r2_score(y_test, rfe_lr_y_pred).round(2))                      #the higher the better\n",
        "print(\"MSE: \", metrics.mean_squared_error(y_test, rfe_lr_y_pred).round(2))           #the lower the better\n",
        "print(\"RMSE: \", np.sqrt(metrics.mean_squared_error(y_test, rfe_lr_y_pred)).round(2)) #lower the better"
      ],
      "execution_count": 41,
      "outputs": [
        {
          "output_type": "stream",
          "name": "stdout",
          "text": [
            "R2:  0.54\n",
            "MSE:  92.33\n",
            "RMSE:  9.61\n"
          ]
        }
      ]
    },
    {
      "cell_type": "code",
      "metadata": {
        "colab": {
          "base_uri": "https://localhost:8080/",
          "height": 143
        },
        "id": "YPy8KydKkPhC",
        "outputId": "59b77384-3dac-4b1d-952a-191c52211d45"
      },
      "source": [
        "#data\n",
        "a_lr = [metrics.r2_score(y_test, lr_y_pred), \n",
        "        metrics.mean_squared_error(y_test, lr_y_pred),\n",
        "        np.sqrt(metrics.mean_squared_error(y_test, lr_y_pred))\n",
        "        ]\n",
        "\n",
        "gs_lr = [metrics.r2_score(y_test, clf_lr_y_pred), \n",
        "        metrics.mean_squared_error(y_test, clf_lr_y_pred),\n",
        "        np.sqrt(metrics.mean_squared_error(y_test, clf_lr_y_pred))\n",
        "        ]\n",
        "\n",
        "rfe_lr = [metrics.r2_score(y_test, rfe_lr_y_pred), \n",
        "        metrics.mean_squared_error(y_test, rfe_lr_y_pred),\n",
        "        np.sqrt(metrics.mean_squared_error(y_test, rfe_lr_y_pred))\n",
        "        ]\n",
        "\n",
        "#dataframe df\n",
        "accuracy_df = pd.DataFrame(np.array([a_lr, gs_lr, rfe_lr]),\n",
        "                              index = ['Linear Regression Model', 'GridSearch Linear Regression Model', 'RFE Linear Regression Model'],\n",
        "                              columns=['R2', 'MSE', 'RMSE'])\n",
        "accuracy_df"
      ],
      "execution_count": 42,
      "outputs": [
        {
          "output_type": "execute_result",
          "data": {
            "text/html": [
              "<div>\n",
              "<style scoped>\n",
              "    .dataframe tbody tr th:only-of-type {\n",
              "        vertical-align: middle;\n",
              "    }\n",
              "\n",
              "    .dataframe tbody tr th {\n",
              "        vertical-align: top;\n",
              "    }\n",
              "\n",
              "    .dataframe thead th {\n",
              "        text-align: right;\n",
              "    }\n",
              "</style>\n",
              "<table border=\"1\" class=\"dataframe\">\n",
              "  <thead>\n",
              "    <tr style=\"text-align: right;\">\n",
              "      <th></th>\n",
              "      <th>R2</th>\n",
              "      <th>MSE</th>\n",
              "      <th>RMSE</th>\n",
              "    </tr>\n",
              "  </thead>\n",
              "  <tbody>\n",
              "    <tr>\n",
              "      <th>Linear Regression Model</th>\n",
              "      <td>0.560213</td>\n",
              "      <td>88.788416</td>\n",
              "      <td>9.422761</td>\n",
              "    </tr>\n",
              "    <tr>\n",
              "      <th>GridSearch Linear Regression Model</th>\n",
              "      <td>0.560213</td>\n",
              "      <td>88.788416</td>\n",
              "      <td>9.422761</td>\n",
              "    </tr>\n",
              "    <tr>\n",
              "      <th>RFE Linear Regression Model</th>\n",
              "      <td>0.542677</td>\n",
              "      <td>92.328898</td>\n",
              "      <td>9.608793</td>\n",
              "    </tr>\n",
              "  </tbody>\n",
              "</table>\n",
              "</div>"
            ],
            "text/plain": [
              "                                          R2        MSE      RMSE\n",
              "Linear Regression Model             0.560213  88.788416  9.422761\n",
              "GridSearch Linear Regression Model  0.560213  88.788416  9.422761\n",
              "RFE Linear Regression Model         0.542677  92.328898  9.608793"
            ]
          },
          "metadata": {},
          "execution_count": 42
        }
      ]
    },
    {
      "cell_type": "markdown",
      "metadata": {
        "id": "pslyP1U7gWX8"
      },
      "source": [
        "Notes:     \n",
        "\n",
        "- Linear Regression Model showed low accuracy on all metrics.\n",
        "- Gridsearch showed the same accuracy on all metrics. The linear regression model without hyperparameters is already the best result.\n",
        "- With Recursive Feature Elimination (RFE), there is a significant amount of data removal, which should stem with higher accuracy. Since this metric shows lower accuracy than without feature importance, there must be other columns that are important within the dataset that justifies its accuracy. "
      ]
    },
    {
      "cell_type": "code",
      "metadata": {
        "id": "iVdS0a75Lt2p"
      },
      "source": [
        ""
      ],
      "execution_count": null,
      "outputs": []
    }
  ]
}